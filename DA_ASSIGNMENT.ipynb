{
  "cells": [
    {
      "cell_type": "code",
      "execution_count": null,
      "metadata": {
        "colab": {
          "base_uri": "https://localhost:8080/",
          "height": 792
        },
        "id": "tA2W3mlcCyRs",
        "outputId": "85207b01-2b45-4e79-b3e4-e0ff22e1b5e4"
      },
      "outputs": [
        {
          "output_type": "stream",
          "name": "stderr",
          "text": [
            "Installing package into ‘/usr/local/lib/R/site-library’\n",
            "(as ‘lib’ is unspecified)\n",
            "\n",
            "also installing the dependencies ‘rbibutils’, ‘R.methodsS3’, ‘R.oo’, ‘R.utils’, ‘bitops’, ‘Rdpack’, ‘R.cache’, ‘caTools’, ‘TH.data’, ‘profileModel’, ‘minqa’, ‘nloptr’, ‘reformulas’, ‘RcppEigen’, ‘lazyeval’, ‘plotrix’, ‘styler’, ‘classInt’, ‘labelled’, ‘gplots’, ‘libcoin’, ‘matrixStats’, ‘multcomp’, ‘brglm’, ‘gtools’, ‘lme4’, ‘qvcalc’, ‘rex’, ‘Formula’, ‘plotmo’, ‘combinat’, ‘questionr’, ‘ROCR’, ‘mvtnorm’, ‘modeltools’, ‘strucchange’, ‘coin’, ‘zoo’, ‘sandwich’, ‘ROSE’, ‘BradleyTerry2’, ‘covr’, ‘Cubist’, ‘earth’, ‘ellipse’, ‘fastICA’, ‘gam’, ‘kernlab’, ‘klaR’, ‘mda’, ‘mlbench’, ‘MLmetrics’, ‘pamr’, ‘party’, ‘pls’, ‘randomForest’, ‘RANN’, ‘spls’, ‘superpc’, ‘themis’\n",
            "\n",
            "\n",
            "Installing package into ‘/usr/local/lib/R/site-library’\n",
            "(as ‘lib’ is unspecified)\n",
            "\n",
            "Installing package into ‘/usr/local/lib/R/site-library’\n",
            "(as ‘lib’ is unspecified)\n",
            "\n",
            "Installing package into ‘/usr/local/lib/R/site-library’\n",
            "(as ‘lib’ is unspecified)\n",
            "\n"
          ]
        },
        {
          "output_type": "stream",
          "name": "stdout",
          "text": [
            "'data.frame':\t891 obs. of  12 variables:\n",
            " $ PassengerId: int  1 2 3 4 5 6 7 8 9 10 ...\n",
            " $ Survived   : int  0 1 1 1 0 0 0 0 1 1 ...\n",
            " $ Pclass     : int  3 1 3 1 3 3 1 3 3 2 ...\n",
            " $ Name       : chr  \"Braund, Mr. Owen Harris\" \"Cumings, Mrs. John Bradley (Florence Briggs Thayer)\" \"Heikkinen, Miss. Laina\" \"Futrelle, Mrs. Jacques Heath (Lily May Peel)\" ...\n",
            " $ Sex        : chr  \"male\" \"female\" \"female\" \"female\" ...\n",
            " $ Age        : num  22 38 26 35 35 NA 54 2 27 14 ...\n",
            " $ SibSp      : int  1 1 0 1 0 0 0 3 0 1 ...\n",
            " $ Parch      : int  0 0 0 0 0 0 0 1 2 0 ...\n",
            " $ Ticket     : chr  \"A/5 21171\" \"PC 17599\" \"STON/O2. 3101282\" \"113803\" ...\n",
            " $ Fare       : num  7.25 71.28 7.92 53.1 8.05 ...\n",
            " $ Cabin      : chr  \"\" \"C85\" \"\" \"C123\" ...\n",
            " $ Embarked   : chr  \"S\" \"C\" \"S\" \"S\" ...\n"
          ]
        },
        {
          "output_type": "display_data",
          "data": {
            "text/html": [
              "<table class=\"dataframe\">\n",
              "<caption>A data.frame: 6 × 12</caption>\n",
              "<thead>\n",
              "\t<tr><th></th><th scope=col>PassengerId</th><th scope=col>Survived</th><th scope=col>Pclass</th><th scope=col>Name</th><th scope=col>Sex</th><th scope=col>Age</th><th scope=col>SibSp</th><th scope=col>Parch</th><th scope=col>Ticket</th><th scope=col>Fare</th><th scope=col>Cabin</th><th scope=col>Embarked</th></tr>\n",
              "\t<tr><th></th><th scope=col>&lt;int&gt;</th><th scope=col>&lt;int&gt;</th><th scope=col>&lt;int&gt;</th><th scope=col>&lt;chr&gt;</th><th scope=col>&lt;chr&gt;</th><th scope=col>&lt;dbl&gt;</th><th scope=col>&lt;int&gt;</th><th scope=col>&lt;int&gt;</th><th scope=col>&lt;chr&gt;</th><th scope=col>&lt;dbl&gt;</th><th scope=col>&lt;chr&gt;</th><th scope=col>&lt;chr&gt;</th></tr>\n",
              "</thead>\n",
              "<tbody>\n",
              "\t<tr><th scope=row>1</th><td>1</td><td>0</td><td>3</td><td>Braund, Mr. Owen Harris                            </td><td>male  </td><td>22</td><td>1</td><td>0</td><td>A/5 21171       </td><td> 7.2500</td><td>    </td><td>S</td></tr>\n",
              "\t<tr><th scope=row>2</th><td>2</td><td>1</td><td>1</td><td>Cumings, Mrs. John Bradley (Florence Briggs Thayer)</td><td>female</td><td>38</td><td>1</td><td>0</td><td>PC 17599        </td><td>71.2833</td><td>C85 </td><td>C</td></tr>\n",
              "\t<tr><th scope=row>3</th><td>3</td><td>1</td><td>3</td><td>Heikkinen, Miss. Laina                             </td><td>female</td><td>26</td><td>0</td><td>0</td><td>STON/O2. 3101282</td><td> 7.9250</td><td>    </td><td>S</td></tr>\n",
              "\t<tr><th scope=row>4</th><td>4</td><td>1</td><td>1</td><td>Futrelle, Mrs. Jacques Heath (Lily May Peel)       </td><td>female</td><td>35</td><td>1</td><td>0</td><td>113803          </td><td>53.1000</td><td>C123</td><td>S</td></tr>\n",
              "\t<tr><th scope=row>5</th><td>5</td><td>0</td><td>3</td><td>Allen, Mr. William Henry                           </td><td>male  </td><td>35</td><td>0</td><td>0</td><td>373450          </td><td> 8.0500</td><td>    </td><td>S</td></tr>\n",
              "\t<tr><th scope=row>6</th><td>6</td><td>0</td><td>3</td><td>Moran, Mr. James                                   </td><td>male  </td><td>NA</td><td>0</td><td>0</td><td>330877          </td><td> 8.4583</td><td>    </td><td>Q</td></tr>\n",
              "</tbody>\n",
              "</table>\n"
            ],
            "text/markdown": "\nA data.frame: 6 × 12\n\n| <!--/--> | PassengerId &lt;int&gt; | Survived &lt;int&gt; | Pclass &lt;int&gt; | Name &lt;chr&gt; | Sex &lt;chr&gt; | Age &lt;dbl&gt; | SibSp &lt;int&gt; | Parch &lt;int&gt; | Ticket &lt;chr&gt; | Fare &lt;dbl&gt; | Cabin &lt;chr&gt; | Embarked &lt;chr&gt; |\n|---|---|---|---|---|---|---|---|---|---|---|---|---|\n| 1 | 1 | 0 | 3 | Braund, Mr. Owen Harris                             | male   | 22 | 1 | 0 | A/5 21171        |  7.2500 | <!----> | S |\n| 2 | 2 | 1 | 1 | Cumings, Mrs. John Bradley (Florence Briggs Thayer) | female | 38 | 1 | 0 | PC 17599         | 71.2833 | C85  | C |\n| 3 | 3 | 1 | 3 | Heikkinen, Miss. Laina                              | female | 26 | 0 | 0 | STON/O2. 3101282 |  7.9250 | <!----> | S |\n| 4 | 4 | 1 | 1 | Futrelle, Mrs. Jacques Heath (Lily May Peel)        | female | 35 | 1 | 0 | 113803           | 53.1000 | C123 | S |\n| 5 | 5 | 0 | 3 | Allen, Mr. William Henry                            | male   | 35 | 0 | 0 | 373450           |  8.0500 | <!----> | S |\n| 6 | 6 | 0 | 3 | Moran, Mr. James                                    | male   | NA | 0 | 0 | 330877           |  8.4583 | <!----> | Q |\n\n",
            "text/latex": "A data.frame: 6 × 12\n\\begin{tabular}{r|llllllllllll}\n  & PassengerId & Survived & Pclass & Name & Sex & Age & SibSp & Parch & Ticket & Fare & Cabin & Embarked\\\\\n  & <int> & <int> & <int> & <chr> & <chr> & <dbl> & <int> & <int> & <chr> & <dbl> & <chr> & <chr>\\\\\n\\hline\n\t1 & 1 & 0 & 3 & Braund, Mr. Owen Harris                             & male   & 22 & 1 & 0 & A/5 21171        &  7.2500 &      & S\\\\\n\t2 & 2 & 1 & 1 & Cumings, Mrs. John Bradley (Florence Briggs Thayer) & female & 38 & 1 & 0 & PC 17599         & 71.2833 & C85  & C\\\\\n\t3 & 3 & 1 & 3 & Heikkinen, Miss. Laina                              & female & 26 & 0 & 0 & STON/O2. 3101282 &  7.9250 &      & S\\\\\n\t4 & 4 & 1 & 1 & Futrelle, Mrs. Jacques Heath (Lily May Peel)        & female & 35 & 1 & 0 & 113803           & 53.1000 & C123 & S\\\\\n\t5 & 5 & 0 & 3 & Allen, Mr. William Henry                            & male   & 35 & 0 & 0 & 373450           &  8.0500 &      & S\\\\\n\t6 & 6 & 0 & 3 & Moran, Mr. James                                    & male   & NA & 0 & 0 & 330877           &  8.4583 &      & Q\\\\\n\\end{tabular}\n",
            "text/plain": [
              "  PassengerId Survived Pclass\n",
              "1 1           0        3     \n",
              "2 2           1        1     \n",
              "3 3           1        3     \n",
              "4 4           1        1     \n",
              "5 5           0        3     \n",
              "6 6           0        3     \n",
              "  Name                                                Sex    Age SibSp Parch\n",
              "1 Braund, Mr. Owen Harris                             male   22  1     0    \n",
              "2 Cumings, Mrs. John Bradley (Florence Briggs Thayer) female 38  1     0    \n",
              "3 Heikkinen, Miss. Laina                              female 26  0     0    \n",
              "4 Futrelle, Mrs. Jacques Heath (Lily May Peel)        female 35  1     0    \n",
              "5 Allen, Mr. William Henry                            male   35  0     0    \n",
              "6 Moran, Mr. James                                    male   NA  0     0    \n",
              "  Ticket           Fare    Cabin Embarked\n",
              "1 A/5 21171         7.2500       S       \n",
              "2 PC 17599         71.2833 C85   C       \n",
              "3 STON/O2. 3101282  7.9250       S       \n",
              "4 113803           53.1000 C123  S       \n",
              "5 373450            8.0500       S       \n",
              "6 330877            8.4583       Q       "
            ]
          },
          "metadata": {}
        }
      ],
      "source": [
        "install.packages(\"caret\", dependencies=TRUE)\n",
        "install.packages(\"e1071\")  # Required for model training\n",
        "install.packages(\"titanic\")\n",
        "install.packages(\"class\")  # Required for KNN\n",
        "\n",
        "# Load libraries again\n",
        "library(titanic)\n",
        "library(caret)\n",
        "library(class)\n",
        "\n",
        "# Load the dataset\n",
        "data <- titanic::titanic_train\n",
        "\n",
        "# Check the structure\n",
        "str(data)\n",
        "\n",
        "# View first few rows\n",
        "head(data)\n"
      ]
    },
    {
      "cell_type": "code",
      "execution_count": null,
      "metadata": {
        "colab": {
          "base_uri": "https://localhost:8080/"
        },
        "id": "MWQ-U5LFHdQf",
        "outputId": "2c00adc9-0001-498a-d66a-8314319096e7"
      },
      "outputs": [
        {
          "output_type": "stream",
          "name": "stderr",
          "text": [
            "Installing package into ‘/usr/local/lib/R/site-library’\n",
            "(as ‘lib’ is unspecified)\n",
            "\n",
            "Installing package into ‘/usr/local/lib/R/site-library’\n",
            "(as ‘lib’ is unspecified)\n",
            "\n"
          ]
        }
      ],
      "source": [
        "install.packages(\"class\")   # Only for KNN\n",
        "install.packages(\"titanic\") # For Titanic dataset\n"
      ]
    },
    {
      "cell_type": "code",
      "execution_count": null,
      "metadata": {
        "colab": {
          "base_uri": "https://localhost:8080/",
          "height": 532
        },
        "id": "l6ihPYplHu8-",
        "outputId": "d5ce4a17-c353-4421-d8d7-420d6b23571f"
      },
      "outputs": [
        {
          "output_type": "stream",
          "name": "stdout",
          "text": [
            "'data.frame':\t891 obs. of  12 variables:\n",
            " $ PassengerId: int  1 2 3 4 5 6 7 8 9 10 ...\n",
            " $ Survived   : int  0 1 1 1 0 0 0 0 1 1 ...\n",
            " $ Pclass     : int  3 1 3 1 3 3 1 3 3 2 ...\n",
            " $ Name       : chr  \"Braund, Mr. Owen Harris\" \"Cumings, Mrs. John Bradley (Florence Briggs Thayer)\" \"Heikkinen, Miss. Laina\" \"Futrelle, Mrs. Jacques Heath (Lily May Peel)\" ...\n",
            " $ Sex        : chr  \"male\" \"female\" \"female\" \"female\" ...\n",
            " $ Age        : num  22 38 26 35 35 NA 54 2 27 14 ...\n",
            " $ SibSp      : int  1 1 0 1 0 0 0 3 0 1 ...\n",
            " $ Parch      : int  0 0 0 0 0 0 0 1 2 0 ...\n",
            " $ Ticket     : chr  \"A/5 21171\" \"PC 17599\" \"STON/O2. 3101282\" \"113803\" ...\n",
            " $ Fare       : num  7.25 71.28 7.92 53.1 8.05 ...\n",
            " $ Cabin      : chr  \"\" \"C85\" \"\" \"C123\" ...\n",
            " $ Embarked   : chr  \"S\" \"C\" \"S\" \"S\" ...\n"
          ]
        },
        {
          "output_type": "display_data",
          "data": {
            "text/html": [
              "<table class=\"dataframe\">\n",
              "<caption>A data.frame: 6 × 12</caption>\n",
              "<thead>\n",
              "\t<tr><th></th><th scope=col>PassengerId</th><th scope=col>Survived</th><th scope=col>Pclass</th><th scope=col>Name</th><th scope=col>Sex</th><th scope=col>Age</th><th scope=col>SibSp</th><th scope=col>Parch</th><th scope=col>Ticket</th><th scope=col>Fare</th><th scope=col>Cabin</th><th scope=col>Embarked</th></tr>\n",
              "\t<tr><th></th><th scope=col>&lt;int&gt;</th><th scope=col>&lt;int&gt;</th><th scope=col>&lt;int&gt;</th><th scope=col>&lt;chr&gt;</th><th scope=col>&lt;chr&gt;</th><th scope=col>&lt;dbl&gt;</th><th scope=col>&lt;int&gt;</th><th scope=col>&lt;int&gt;</th><th scope=col>&lt;chr&gt;</th><th scope=col>&lt;dbl&gt;</th><th scope=col>&lt;chr&gt;</th><th scope=col>&lt;chr&gt;</th></tr>\n",
              "</thead>\n",
              "<tbody>\n",
              "\t<tr><th scope=row>1</th><td>1</td><td>0</td><td>3</td><td>Braund, Mr. Owen Harris                            </td><td>male  </td><td>22</td><td>1</td><td>0</td><td>A/5 21171       </td><td> 7.2500</td><td>    </td><td>S</td></tr>\n",
              "\t<tr><th scope=row>2</th><td>2</td><td>1</td><td>1</td><td>Cumings, Mrs. John Bradley (Florence Briggs Thayer)</td><td>female</td><td>38</td><td>1</td><td>0</td><td>PC 17599        </td><td>71.2833</td><td>C85 </td><td>C</td></tr>\n",
              "\t<tr><th scope=row>3</th><td>3</td><td>1</td><td>3</td><td>Heikkinen, Miss. Laina                             </td><td>female</td><td>26</td><td>0</td><td>0</td><td>STON/O2. 3101282</td><td> 7.9250</td><td>    </td><td>S</td></tr>\n",
              "\t<tr><th scope=row>4</th><td>4</td><td>1</td><td>1</td><td>Futrelle, Mrs. Jacques Heath (Lily May Peel)       </td><td>female</td><td>35</td><td>1</td><td>0</td><td>113803          </td><td>53.1000</td><td>C123</td><td>S</td></tr>\n",
              "\t<tr><th scope=row>5</th><td>5</td><td>0</td><td>3</td><td>Allen, Mr. William Henry                           </td><td>male  </td><td>35</td><td>0</td><td>0</td><td>373450          </td><td> 8.0500</td><td>    </td><td>S</td></tr>\n",
              "\t<tr><th scope=row>6</th><td>6</td><td>0</td><td>3</td><td>Moran, Mr. James                                   </td><td>male  </td><td>NA</td><td>0</td><td>0</td><td>330877          </td><td> 8.4583</td><td>    </td><td>Q</td></tr>\n",
              "</tbody>\n",
              "</table>\n"
            ],
            "text/markdown": "\nA data.frame: 6 × 12\n\n| <!--/--> | PassengerId &lt;int&gt; | Survived &lt;int&gt; | Pclass &lt;int&gt; | Name &lt;chr&gt; | Sex &lt;chr&gt; | Age &lt;dbl&gt; | SibSp &lt;int&gt; | Parch &lt;int&gt; | Ticket &lt;chr&gt; | Fare &lt;dbl&gt; | Cabin &lt;chr&gt; | Embarked &lt;chr&gt; |\n|---|---|---|---|---|---|---|---|---|---|---|---|---|\n| 1 | 1 | 0 | 3 | Braund, Mr. Owen Harris                             | male   | 22 | 1 | 0 | A/5 21171        |  7.2500 | <!----> | S |\n| 2 | 2 | 1 | 1 | Cumings, Mrs. John Bradley (Florence Briggs Thayer) | female | 38 | 1 | 0 | PC 17599         | 71.2833 | C85  | C |\n| 3 | 3 | 1 | 3 | Heikkinen, Miss. Laina                              | female | 26 | 0 | 0 | STON/O2. 3101282 |  7.9250 | <!----> | S |\n| 4 | 4 | 1 | 1 | Futrelle, Mrs. Jacques Heath (Lily May Peel)        | female | 35 | 1 | 0 | 113803           | 53.1000 | C123 | S |\n| 5 | 5 | 0 | 3 | Allen, Mr. William Henry                            | male   | 35 | 0 | 0 | 373450           |  8.0500 | <!----> | S |\n| 6 | 6 | 0 | 3 | Moran, Mr. James                                    | male   | NA | 0 | 0 | 330877           |  8.4583 | <!----> | Q |\n\n",
            "text/latex": "A data.frame: 6 × 12\n\\begin{tabular}{r|llllllllllll}\n  & PassengerId & Survived & Pclass & Name & Sex & Age & SibSp & Parch & Ticket & Fare & Cabin & Embarked\\\\\n  & <int> & <int> & <int> & <chr> & <chr> & <dbl> & <int> & <int> & <chr> & <dbl> & <chr> & <chr>\\\\\n\\hline\n\t1 & 1 & 0 & 3 & Braund, Mr. Owen Harris                             & male   & 22 & 1 & 0 & A/5 21171        &  7.2500 &      & S\\\\\n\t2 & 2 & 1 & 1 & Cumings, Mrs. John Bradley (Florence Briggs Thayer) & female & 38 & 1 & 0 & PC 17599         & 71.2833 & C85  & C\\\\\n\t3 & 3 & 1 & 3 & Heikkinen, Miss. Laina                              & female & 26 & 0 & 0 & STON/O2. 3101282 &  7.9250 &      & S\\\\\n\t4 & 4 & 1 & 1 & Futrelle, Mrs. Jacques Heath (Lily May Peel)        & female & 35 & 1 & 0 & 113803           & 53.1000 & C123 & S\\\\\n\t5 & 5 & 0 & 3 & Allen, Mr. William Henry                            & male   & 35 & 0 & 0 & 373450           &  8.0500 &      & S\\\\\n\t6 & 6 & 0 & 3 & Moran, Mr. James                                    & male   & NA & 0 & 0 & 330877           &  8.4583 &      & Q\\\\\n\\end{tabular}\n",
            "text/plain": [
              "  PassengerId Survived Pclass\n",
              "1 1           0        3     \n",
              "2 2           1        1     \n",
              "3 3           1        3     \n",
              "4 4           1        1     \n",
              "5 5           0        3     \n",
              "6 6           0        3     \n",
              "  Name                                                Sex    Age SibSp Parch\n",
              "1 Braund, Mr. Owen Harris                             male   22  1     0    \n",
              "2 Cumings, Mrs. John Bradley (Florence Briggs Thayer) female 38  1     0    \n",
              "3 Heikkinen, Miss. Laina                              female 26  0     0    \n",
              "4 Futrelle, Mrs. Jacques Heath (Lily May Peel)        female 35  1     0    \n",
              "5 Allen, Mr. William Henry                            male   35  0     0    \n",
              "6 Moran, Mr. James                                    male   NA  0     0    \n",
              "  Ticket           Fare    Cabin Embarked\n",
              "1 A/5 21171         7.2500       S       \n",
              "2 PC 17599         71.2833 C85   C       \n",
              "3 STON/O2. 3101282  7.9250       S       \n",
              "4 113803           53.1000 C123  S       \n",
              "5 373450            8.0500       S       \n",
              "6 330877            8.4583       Q       "
            ]
          },
          "metadata": {}
        }
      ],
      "source": [
        "# Load required libraries\n",
        "library(titanic)\n",
        "library(class)\n",
        "\n",
        "# Load dataset\n",
        "data <- titanic::titanic_train\n",
        "\n",
        "# View structure\n",
        "str(data)\n",
        "\n",
        "# View first few rows\n",
        "head(data)\n"
      ]
    },
    {
      "cell_type": "code",
      "execution_count": null,
      "metadata": {
        "colab": {
          "base_uri": "https://localhost:8080/",
          "height": 408
        },
        "id": "WYRSGwb9IAwN",
        "outputId": "90273011-dd19-4063-fc16-d158830f8a29"
      },
      "outputs": [
        {
          "output_type": "stream",
          "name": "stderr",
          "text": [
            "Installing package into ‘/usr/local/lib/R/site-library’\n",
            "(as ‘lib’ is unspecified)\n",
            "\n",
            "Installing package into ‘/usr/local/lib/R/site-library’\n",
            "(as ‘lib’ is unspecified)\n",
            "\n"
          ]
        },
        {
          "output_type": "display_data",
          "data": {
            "text/html": [
              "<style>\n",
              ".list-inline {list-style: none; margin:0; padding: 0}\n",
              ".list-inline>li {display: inline-block}\n",
              ".list-inline>li:not(:last-child)::after {content: \"\\00b7\"; padding: 0 .5ex}\n",
              "</style>\n",
              "<ol class=list-inline><li>891</li><li>12</li></ol>\n"
            ],
            "text/markdown": "1. 891\n2. 12\n\n\n",
            "text/latex": "\\begin{enumerate*}\n\\item 891\n\\item 12\n\\end{enumerate*}\n",
            "text/plain": [
              "[1] 891  12"
            ]
          },
          "metadata": {}
        },
        {
          "output_type": "display_data",
          "data": {
            "text/html": [
              "<table class=\"dataframe\">\n",
              "<caption>A data.frame: 6 × 12</caption>\n",
              "<thead>\n",
              "\t<tr><th></th><th scope=col>PassengerId</th><th scope=col>Survived</th><th scope=col>Pclass</th><th scope=col>Name</th><th scope=col>Sex</th><th scope=col>Age</th><th scope=col>SibSp</th><th scope=col>Parch</th><th scope=col>Ticket</th><th scope=col>Fare</th><th scope=col>Cabin</th><th scope=col>Embarked</th></tr>\n",
              "\t<tr><th></th><th scope=col>&lt;int&gt;</th><th scope=col>&lt;int&gt;</th><th scope=col>&lt;int&gt;</th><th scope=col>&lt;chr&gt;</th><th scope=col>&lt;chr&gt;</th><th scope=col>&lt;dbl&gt;</th><th scope=col>&lt;int&gt;</th><th scope=col>&lt;int&gt;</th><th scope=col>&lt;chr&gt;</th><th scope=col>&lt;dbl&gt;</th><th scope=col>&lt;chr&gt;</th><th scope=col>&lt;chr&gt;</th></tr>\n",
              "</thead>\n",
              "<tbody>\n",
              "\t<tr><th scope=row>1</th><td>1</td><td>0</td><td>3</td><td>Braund, Mr. Owen Harris                            </td><td>male  </td><td>22</td><td>1</td><td>0</td><td>A/5 21171       </td><td> 7.2500</td><td>    </td><td>S</td></tr>\n",
              "\t<tr><th scope=row>2</th><td>2</td><td>1</td><td>1</td><td>Cumings, Mrs. John Bradley (Florence Briggs Thayer)</td><td>female</td><td>38</td><td>1</td><td>0</td><td>PC 17599        </td><td>71.2833</td><td>C85 </td><td>C</td></tr>\n",
              "\t<tr><th scope=row>3</th><td>3</td><td>1</td><td>3</td><td>Heikkinen, Miss. Laina                             </td><td>female</td><td>26</td><td>0</td><td>0</td><td>STON/O2. 3101282</td><td> 7.9250</td><td>    </td><td>S</td></tr>\n",
              "\t<tr><th scope=row>4</th><td>4</td><td>1</td><td>1</td><td>Futrelle, Mrs. Jacques Heath (Lily May Peel)       </td><td>female</td><td>35</td><td>1</td><td>0</td><td>113803          </td><td>53.1000</td><td>C123</td><td>S</td></tr>\n",
              "\t<tr><th scope=row>5</th><td>5</td><td>0</td><td>3</td><td>Allen, Mr. William Henry                           </td><td>male  </td><td>35</td><td>0</td><td>0</td><td>373450          </td><td> 8.0500</td><td>    </td><td>S</td></tr>\n",
              "\t<tr><th scope=row>6</th><td>6</td><td>0</td><td>3</td><td>Moran, Mr. James                                   </td><td>male  </td><td>NA</td><td>0</td><td>0</td><td>330877          </td><td> 8.4583</td><td>    </td><td>Q</td></tr>\n",
              "</tbody>\n",
              "</table>\n"
            ],
            "text/markdown": "\nA data.frame: 6 × 12\n\n| <!--/--> | PassengerId &lt;int&gt; | Survived &lt;int&gt; | Pclass &lt;int&gt; | Name &lt;chr&gt; | Sex &lt;chr&gt; | Age &lt;dbl&gt; | SibSp &lt;int&gt; | Parch &lt;int&gt; | Ticket &lt;chr&gt; | Fare &lt;dbl&gt; | Cabin &lt;chr&gt; | Embarked &lt;chr&gt; |\n|---|---|---|---|---|---|---|---|---|---|---|---|---|\n| 1 | 1 | 0 | 3 | Braund, Mr. Owen Harris                             | male   | 22 | 1 | 0 | A/5 21171        |  7.2500 | <!----> | S |\n| 2 | 2 | 1 | 1 | Cumings, Mrs. John Bradley (Florence Briggs Thayer) | female | 38 | 1 | 0 | PC 17599         | 71.2833 | C85  | C |\n| 3 | 3 | 1 | 3 | Heikkinen, Miss. Laina                              | female | 26 | 0 | 0 | STON/O2. 3101282 |  7.9250 | <!----> | S |\n| 4 | 4 | 1 | 1 | Futrelle, Mrs. Jacques Heath (Lily May Peel)        | female | 35 | 1 | 0 | 113803           | 53.1000 | C123 | S |\n| 5 | 5 | 0 | 3 | Allen, Mr. William Henry                            | male   | 35 | 0 | 0 | 373450           |  8.0500 | <!----> | S |\n| 6 | 6 | 0 | 3 | Moran, Mr. James                                    | male   | NA | 0 | 0 | 330877           |  8.4583 | <!----> | Q |\n\n",
            "text/latex": "A data.frame: 6 × 12\n\\begin{tabular}{r|llllllllllll}\n  & PassengerId & Survived & Pclass & Name & Sex & Age & SibSp & Parch & Ticket & Fare & Cabin & Embarked\\\\\n  & <int> & <int> & <int> & <chr> & <chr> & <dbl> & <int> & <int> & <chr> & <dbl> & <chr> & <chr>\\\\\n\\hline\n\t1 & 1 & 0 & 3 & Braund, Mr. Owen Harris                             & male   & 22 & 1 & 0 & A/5 21171        &  7.2500 &      & S\\\\\n\t2 & 2 & 1 & 1 & Cumings, Mrs. John Bradley (Florence Briggs Thayer) & female & 38 & 1 & 0 & PC 17599         & 71.2833 & C85  & C\\\\\n\t3 & 3 & 1 & 3 & Heikkinen, Miss. Laina                              & female & 26 & 0 & 0 & STON/O2. 3101282 &  7.9250 &      & S\\\\\n\t4 & 4 & 1 & 1 & Futrelle, Mrs. Jacques Heath (Lily May Peel)        & female & 35 & 1 & 0 & 113803           & 53.1000 & C123 & S\\\\\n\t5 & 5 & 0 & 3 & Allen, Mr. William Henry                            & male   & 35 & 0 & 0 & 373450           &  8.0500 &      & S\\\\\n\t6 & 6 & 0 & 3 & Moran, Mr. James                                    & male   & NA & 0 & 0 & 330877           &  8.4583 &      & Q\\\\\n\\end{tabular}\n",
            "text/plain": [
              "  PassengerId Survived Pclass\n",
              "1 1           0        3     \n",
              "2 2           1        1     \n",
              "3 3           1        3     \n",
              "4 4           1        1     \n",
              "5 5           0        3     \n",
              "6 6           0        3     \n",
              "  Name                                                Sex    Age SibSp Parch\n",
              "1 Braund, Mr. Owen Harris                             male   22  1     0    \n",
              "2 Cumings, Mrs. John Bradley (Florence Briggs Thayer) female 38  1     0    \n",
              "3 Heikkinen, Miss. Laina                              female 26  0     0    \n",
              "4 Futrelle, Mrs. Jacques Heath (Lily May Peel)        female 35  1     0    \n",
              "5 Allen, Mr. William Henry                            male   35  0     0    \n",
              "6 Moran, Mr. James                                    male   NA  0     0    \n",
              "  Ticket           Fare    Cabin Embarked\n",
              "1 A/5 21171         7.2500       S       \n",
              "2 PC 17599         71.2833 C85   C       \n",
              "3 STON/O2. 3101282  7.9250       S       \n",
              "4 113803           53.1000 C123  S       \n",
              "5 373450            8.0500       S       \n",
              "6 330877            8.4583       Q       "
            ]
          },
          "metadata": {}
        }
      ],
      "source": [
        "# Install only necessary packages\n",
        "install.packages(\"titanic\")\n",
        "install.packages(\"class\")\n",
        "\n",
        "# Load required libraries\n",
        "library(titanic)\n",
        "library(class)\n",
        "\n",
        "# Load dataset\n",
        "data <- as.data.frame(titanic::titanic_train)  # Convert to a proper data frame\n",
        "\n",
        "# Check dataset size\n",
        "dim(data)  # Should show (891, 12)\n",
        "\n",
        "# View first few rows\n",
        "head(data)\n"
      ]
    },
    {
      "cell_type": "code",
      "execution_count": null,
      "metadata": {
        "colab": {
          "base_uri": "https://localhost:8080/",
          "height": 286
        },
        "id": "IRULYId7IOw6",
        "outputId": "5d2ec022-bb3a-4133-fde4-5a83ae60df0d"
      },
      "outputs": [
        {
          "output_type": "display_data",
          "data": {
            "text/html": [
              "<table class=\"dataframe\">\n",
              "<caption>A data.frame: 6 × 5</caption>\n",
              "<thead>\n",
              "\t<tr><th></th><th scope=col>Survived</th><th scope=col>Pclass</th><th scope=col>Sex</th><th scope=col>Age</th><th scope=col>Fare</th></tr>\n",
              "\t<tr><th></th><th scope=col>&lt;int&gt;</th><th scope=col>&lt;int&gt;</th><th scope=col>&lt;dbl&gt;</th><th scope=col>&lt;dbl&gt;</th><th scope=col>&lt;dbl&gt;</th></tr>\n",
              "</thead>\n",
              "<tbody>\n",
              "\t<tr><th scope=row>415</th><td>1</td><td>3</td><td>1</td><td>0.5476250</td><td>0.01546857</td></tr>\n",
              "\t<tr><th scope=row>463</th><td>0</td><td>1</td><td>1</td><td>0.5853229</td><td>0.07514700</td></tr>\n",
              "\t<tr><th scope=row>179</th><td>0</td><td>2</td><td>1</td><td>0.3717014</td><td>0.02537431</td></tr>\n",
              "\t<tr><th scope=row>526</th><td>0</td><td>3</td><td>1</td><td>0.5036441</td><td>0.01512699</td></tr>\n",
              "\t<tr><th scope=row>195</th><td>1</td><td>1</td><td>0</td><td>0.5476250</td><td>0.05410740</td></tr>\n",
              "\t<tr><th scope=row>818</th><td>0</td><td>2</td><td>1</td><td>0.3842674</td><td>0.07222739</td></tr>\n",
              "</tbody>\n",
              "</table>\n"
            ],
            "text/markdown": "\nA data.frame: 6 × 5\n\n| <!--/--> | Survived &lt;int&gt; | Pclass &lt;int&gt; | Sex &lt;dbl&gt; | Age &lt;dbl&gt; | Fare &lt;dbl&gt; |\n|---|---|---|---|---|---|\n| 415 | 1 | 3 | 1 | 0.5476250 | 0.01546857 |\n| 463 | 0 | 1 | 1 | 0.5853229 | 0.07514700 |\n| 179 | 0 | 2 | 1 | 0.3717014 | 0.02537431 |\n| 526 | 0 | 3 | 1 | 0.5036441 | 0.01512699 |\n| 195 | 1 | 1 | 0 | 0.5476250 | 0.05410740 |\n| 818 | 0 | 2 | 1 | 0.3842674 | 0.07222739 |\n\n",
            "text/latex": "A data.frame: 6 × 5\n\\begin{tabular}{r|lllll}\n  & Survived & Pclass & Sex & Age & Fare\\\\\n  & <int> & <int> & <dbl> & <dbl> & <dbl>\\\\\n\\hline\n\t415 & 1 & 3 & 1 & 0.5476250 & 0.01546857\\\\\n\t463 & 0 & 1 & 1 & 0.5853229 & 0.07514700\\\\\n\t179 & 0 & 2 & 1 & 0.3717014 & 0.02537431\\\\\n\t526 & 0 & 3 & 1 & 0.5036441 & 0.01512699\\\\\n\t195 & 1 & 1 & 0 & 0.5476250 & 0.05410740\\\\\n\t818 & 0 & 2 & 1 & 0.3842674 & 0.07222739\\\\\n\\end{tabular}\n",
            "text/plain": [
              "    Survived Pclass Sex Age       Fare      \n",
              "415 1        3      1   0.5476250 0.01546857\n",
              "463 0        1      1   0.5853229 0.07514700\n",
              "179 0        2      1   0.3717014 0.02537431\n",
              "526 0        3      1   0.5036441 0.01512699\n",
              "195 1        1      0   0.5476250 0.05410740\n",
              "818 0        2      1   0.3842674 0.07222739"
            ]
          },
          "metadata": {}
        }
      ],
      "source": [
        "# Select relevant columns\n",
        "data <- data[, c(\"Survived\", \"Pclass\", \"Sex\", \"Age\", \"Fare\")]\n",
        "\n",
        "# Handle missing values (replace NA Age with median)\n",
        "data$Age[is.na(data$Age)] <- median(data$Age, na.rm = TRUE)\n",
        "\n",
        "# Convert categorical 'Sex' to numeric (Male = 1, Female = 0)\n",
        "data$Sex <- ifelse(data$Sex == \"male\", 1, 0)\n",
        "\n",
        "# Normalize 'Age' and 'Fare' for better KNN performance\n",
        "normalize <- function(x) {\n",
        "  return ((x - min(x)) / (max(x) - min(x)))\n",
        "}\n",
        "data[, c(\"Age\", \"Fare\")] <- as.data.frame(lapply(data[, c(\"Age\", \"Fare\")], normalize))\n",
        "\n",
        "# Split data into training (80%) and testing (20%) sets\n",
        "set.seed(123)  # Ensures reproducibility\n",
        "trainIndex <- sample(1:nrow(data), 0.8 * nrow(data))\n",
        "trainData <- data[trainIndex, ]\n",
        "testData <- data[-trainIndex, ]\n",
        "\n",
        "# Separate features and labels\n",
        "trainX <- trainData[, -1]  # Features (excluding 'Survived')\n",
        "trainY <- trainData[, 1]   # Labels (Survived)\n",
        "testX <- testData[, -1]    # Features\n",
        "testY <- testData[, 1]     # Labels\n",
        "\n",
        "# Check processed data\n",
        "head(trainData)\n"
      ]
    },
    {
      "cell_type": "code",
      "execution_count": null,
      "metadata": {
        "colab": {
          "base_uri": "https://localhost:8080/"
        },
        "id": "FZZWH5SGJIgZ",
        "outputId": "da9ff4c5-d786-492a-9b62-831fd29e73e1"
      },
      "outputs": [
        {
          "output_type": "stream",
          "name": "stderr",
          "text": [
            "Installing package into ‘/usr/local/lib/R/site-library’\n",
            "(as ‘lib’ is unspecified)\n",
            "\n",
            "Installing package into ‘/usr/local/lib/R/site-library’\n",
            "(as ‘lib’ is unspecified)\n",
            "\n"
          ]
        }
      ],
      "source": [
        "install.packages(\"class\")\n",
        "install.packages(\"caret\")\n"
      ]
    },
    {
      "cell_type": "code",
      "execution_count": null,
      "metadata": {
        "id": "fh100MAhJNtn"
      },
      "outputs": [],
      "source": [
        "library(class)\n",
        "library(caret)\n"
      ]
    },
    {
      "cell_type": "code",
      "execution_count": null,
      "metadata": {
        "id": "Q2ygg2jDKV0N"
      },
      "outputs": [],
      "source": [
        "set.seed(123)  # For reproducibility\n",
        "train_indices <- sample(1:nrow(data), 0.8 * nrow(data))\n",
        "train_data <- data[train_indices, ]\n",
        "test_data <- data[-train_indices, ]\n"
      ]
    },
    {
      "cell_type": "code",
      "execution_count": null,
      "metadata": {
        "id": "xY9C2kAhKXGT"
      },
      "outputs": [],
      "source": [
        "normalize <- function(x) {\n",
        "  return((x - min(x)) / (max(x)))\n",
        "}\n",
        "\n",
        "train_data[, c(\"Age\", \"Fare\")] <- lapply(train_data[, c(\"Age\", \"Fare\")], normalize)\n",
        "test_data[, c(\"Age\", \"Fare\")] <- lapply(test_data[, c(\"Age\", \"Fare\")], normalize)\n"
      ]
    },
    {
      "cell_type": "code",
      "execution_count": null,
      "metadata": {
        "id": "jO4jdT61KZ0d"
      },
      "outputs": [],
      "source": [
        "knn_pred <- knn(train = train_data[, c(\"Pclass\", \"Age\", \"Fare\")],\n",
        "                test = test_data[, c(\"Pclass\", \"Age\", \"Fare\")],\n",
        "                cl = train_data$Survived,\n",
        "                k = 5)\n"
      ]
    },
    {
      "cell_type": "code",
      "execution_count": null,
      "metadata": {
        "colab": {
          "base_uri": "https://localhost:8080/"
        },
        "id": "__yGQNJ6Kb88",
        "outputId": "eecd1f26-be96-48db-98ee-a6b2659c4a27"
      },
      "outputs": [
        {
          "output_type": "stream",
          "name": "stdout",
          "text": [
            "Confusion Matrix and Statistics\n",
            "\n",
            "          Reference\n",
            "Prediction  0  1\n",
            "         0 91 37\n",
            "         1 19 32\n",
            "                                          \n",
            "               Accuracy : 0.6872          \n",
            "                 95% CI : (0.6137, 0.7542)\n",
            "    No Information Rate : 0.6145          \n",
            "    P-Value [Acc > NIR] : 0.02628         \n",
            "                                          \n",
            "                  Kappa : 0.3059          \n",
            "                                          \n",
            " Mcnemar's Test P-Value : 0.02310         \n",
            "                                          \n",
            "            Sensitivity : 0.8273          \n",
            "            Specificity : 0.4638          \n",
            "         Pos Pred Value : 0.7109          \n",
            "         Neg Pred Value : 0.6275          \n",
            "             Prevalence : 0.6145          \n",
            "         Detection Rate : 0.5084          \n",
            "   Detection Prevalence : 0.7151          \n",
            "      Balanced Accuracy : 0.6455          \n",
            "                                          \n",
            "       'Positive' Class : 0               \n",
            "                                          \n"
          ]
        }
      ],
      "source": [
        "library(caret)\n",
        "conf_matrix <- confusionMatrix(as.factor(knn_pred), as.factor(test_data$Survived))\n",
        "print(conf_matrix)\n"
      ]
    },
    {
      "cell_type": "code",
      "execution_count": null,
      "metadata": {
        "colab": {
          "base_uri": "https://localhost:8080/"
        },
        "id": "i53SiY_RKl7B",
        "outputId": "57a5ce25-3021-4b5e-e009-1ef0c75be393"
      },
      "outputs": [
        {
          "output_type": "stream",
          "name": "stdout",
          "text": [
            "[1] \"Accuracy: 68.72 %\"\n"
          ]
        }
      ],
      "source": [
        "accuracy <- sum(knn_pred == test_data$Survived) / length(knn_pred)\n",
        "print(paste(\"Accuracy:\", round(accuracy * 100, 2), \"%\"))\n"
      ]
    },
    {
      "cell_type": "code",
      "execution_count": null,
      "metadata": {
        "colab": {
          "base_uri": "https://localhost:8080/",
          "height": 52
        },
        "id": "yqTgRn5vLJfH",
        "outputId": "d55adb40-7e28-4647-e5ae-812e74213b4d"
      },
      "outputs": [
        {
          "output_type": "display_data",
          "data": {
            "text/html": [
              "<style>\n",
              ".list-inline {list-style: none; margin:0; padding: 0}\n",
              ".list-inline>li {display: inline-block}\n",
              ".list-inline>li:not(:last-child)::after {content: \"\\00b7\"; padding: 0 .5ex}\n",
              "</style>\n",
              "<ol class=list-inline><li>'Survived'</li><li>'Pclass'</li><li>'Sex'</li><li>'Age'</li><li>'Fare'</li></ol>\n"
            ],
            "text/markdown": "1. 'Survived'\n2. 'Pclass'\n3. 'Sex'\n4. 'Age'\n5. 'Fare'\n\n\n",
            "text/latex": "\\begin{enumerate*}\n\\item 'Survived'\n\\item 'Pclass'\n\\item 'Sex'\n\\item 'Age'\n\\item 'Fare'\n\\end{enumerate*}\n",
            "text/plain": [
              "[1] \"Survived\" \"Pclass\"   \"Sex\"      \"Age\"      \"Fare\"    "
            ]
          },
          "metadata": {}
        },
        {
          "output_type": "display_data",
          "data": {
            "text/html": [
              "<style>\n",
              ".list-inline {list-style: none; margin:0; padding: 0}\n",
              ".list-inline>li {display: inline-block}\n",
              ".list-inline>li:not(:last-child)::after {content: \"\\00b7\"; padding: 0 .5ex}\n",
              "</style>\n",
              "<ol class=list-inline><li>'Survived'</li><li>'Pclass'</li><li>'Sex'</li><li>'Age'</li><li>'Fare'</li></ol>\n"
            ],
            "text/markdown": "1. 'Survived'\n2. 'Pclass'\n3. 'Sex'\n4. 'Age'\n5. 'Fare'\n\n\n",
            "text/latex": "\\begin{enumerate*}\n\\item 'Survived'\n\\item 'Pclass'\n\\item 'Sex'\n\\item 'Age'\n\\item 'Fare'\n\\end{enumerate*}\n",
            "text/plain": [
              "[1] \"Survived\" \"Pclass\"   \"Sex\"      \"Age\"      \"Fare\"    "
            ]
          },
          "metadata": {}
        }
      ],
      "source": [
        "colnames(train_data)\n",
        "colnames(test_data)\n"
      ]
    },
    {
      "cell_type": "code",
      "execution_count": null,
      "metadata": {
        "colab": {
          "base_uri": "https://localhost:8080/",
          "height": 364
        },
        "id": "69fFFi9SLa0P",
        "outputId": "356f8c26-b442-4cda-e002-c7a71adf791a"
      },
      "outputs": [
        {
          "output_type": "stream",
          "name": "stdout",
          "text": [
            "'data.frame':\t891 obs. of  5 variables:\n",
            " $ Survived: int  0 1 1 1 0 0 0 0 1 1 ...\n",
            " $ Pclass  : int  3 1 3 1 3 3 1 3 3 2 ...\n",
            " $ Sex     : num  1 0 0 0 1 1 1 1 0 0 ...\n",
            " $ Age     : num  0.271 0.472 0.321 0.435 0.435 ...\n",
            " $ Fare    : num  0.0142 0.1391 0.0155 0.1036 0.0157 ...\n"
          ]
        },
        {
          "output_type": "display_data",
          "data": {
            "text/plain": [
              "    Survived          Pclass           Sex              Age        \n",
              " Min.   :0.0000   Min.   :1.000   Min.   :0.0000   Min.   :0.0000  \n",
              " 1st Qu.:0.0000   1st Qu.:2.000   1st Qu.:0.0000   1st Qu.:0.2712  \n",
              " Median :0.0000   Median :3.000   Median :1.0000   Median :0.3466  \n",
              " Mean   :0.3838   Mean   :2.309   Mean   :0.6476   Mean   :0.3637  \n",
              " 3rd Qu.:1.0000   3rd Qu.:3.000   3rd Qu.:1.0000   3rd Qu.:0.4345  \n",
              " Max.   :1.0000   Max.   :3.000   Max.   :1.0000   Max.   :1.0000  \n",
              "      Fare        \n",
              " Min.   :0.00000  \n",
              " 1st Qu.:0.01544  \n",
              " Median :0.02821  \n",
              " Mean   :0.06286  \n",
              " 3rd Qu.:0.06051  \n",
              " Max.   :1.00000  "
            ]
          },
          "metadata": {}
        }
      ],
      "source": [
        "str(data)\n",
        "summary(data)\n"
      ]
    },
    {
      "cell_type": "code",
      "execution_count": null,
      "metadata": {
        "colab": {
          "base_uri": "https://localhost:8080/",
          "height": 34
        },
        "id": "ZtMPCycQLgdz",
        "outputId": "1d4f7d53-8820-4484-a3f4-238e36018931"
      },
      "outputs": [
        {
          "output_type": "display_data",
          "data": {
            "text/html": [
              "<style>\n",
              ".list-inline {list-style: none; margin:0; padding: 0}\n",
              ".list-inline>li {display: inline-block}\n",
              ".list-inline>li:not(:last-child)::after {content: \"\\00b7\"; padding: 0 .5ex}\n",
              "</style>\n",
              "<ol class=list-inline><li>'PassengerId'</li><li>'Survived'</li><li>'Pclass'</li><li>'Name'</li><li>'Sex'</li><li>'Age'</li><li>'SibSp'</li><li>'Parch'</li><li>'Ticket'</li><li>'Fare'</li><li>'Cabin'</li><li>'Embarked'</li></ol>\n"
            ],
            "text/markdown": "1. 'PassengerId'\n2. 'Survived'\n3. 'Pclass'\n4. 'Name'\n5. 'Sex'\n6. 'Age'\n7. 'SibSp'\n8. 'Parch'\n9. 'Ticket'\n10. 'Fare'\n11. 'Cabin'\n12. 'Embarked'\n\n\n",
            "text/latex": "\\begin{enumerate*}\n\\item 'PassengerId'\n\\item 'Survived'\n\\item 'Pclass'\n\\item 'Name'\n\\item 'Sex'\n\\item 'Age'\n\\item 'SibSp'\n\\item 'Parch'\n\\item 'Ticket'\n\\item 'Fare'\n\\item 'Cabin'\n\\item 'Embarked'\n\\end{enumerate*}\n",
            "text/plain": [
              " [1] \"PassengerId\" \"Survived\"    \"Pclass\"      \"Name\"        \"Sex\"        \n",
              " [6] \"Age\"         \"SibSp\"       \"Parch\"       \"Ticket\"      \"Fare\"       \n",
              "[11] \"Cabin\"       \"Embarked\"   "
            ]
          },
          "metadata": {}
        }
      ],
      "source": [
        "# Reload the dataset to include all columns\n",
        "library(titanic)\n",
        "data <- as.data.frame(titanic::titanic_train)\n",
        "\n",
        "# Check for the required columns\n",
        "colnames(data)\n"
      ]
    },
    {
      "cell_type": "code",
      "execution_count": null,
      "metadata": {
        "id": "gfHci4MvLkNY"
      },
      "outputs": [],
      "source": [
        "data$Sex <- ifelse(data$Sex == \"male\", 0, 1)\n"
      ]
    },
    {
      "cell_type": "code",
      "execution_count": null,
      "metadata": {
        "colab": {
          "base_uri": "https://localhost:8080/",
          "height": 34
        },
        "id": "xitzRHYLLspm",
        "outputId": "4cbdc28d-79ad-4ef0-f298-7347182ed821"
      },
      "outputs": [
        {
          "output_type": "display_data",
          "data": {
            "text/html": [
              "<style>\n",
              ".list-inline {list-style: none; margin:0; padding: 0}\n",
              ".list-inline>li {display: inline-block}\n",
              ".list-inline>li:not(:last-child)::after {content: \"\\00b7\"; padding: 0 .5ex}\n",
              "</style>\n",
              "<ol class=list-inline><li>'PassengerId'</li><li>'Survived'</li><li>'Pclass'</li><li>'Name'</li><li>'Sex'</li><li>'Age'</li><li>'SibSp'</li><li>'Parch'</li><li>'Ticket'</li><li>'Fare'</li><li>'Cabin'</li><li>'Embarked'</li></ol>\n"
            ],
            "text/markdown": "1. 'PassengerId'\n2. 'Survived'\n3. 'Pclass'\n4. 'Name'\n5. 'Sex'\n6. 'Age'\n7. 'SibSp'\n8. 'Parch'\n9. 'Ticket'\n10. 'Fare'\n11. 'Cabin'\n12. 'Embarked'\n\n\n",
            "text/latex": "\\begin{enumerate*}\n\\item 'PassengerId'\n\\item 'Survived'\n\\item 'Pclass'\n\\item 'Name'\n\\item 'Sex'\n\\item 'Age'\n\\item 'SibSp'\n\\item 'Parch'\n\\item 'Ticket'\n\\item 'Fare'\n\\item 'Cabin'\n\\item 'Embarked'\n\\end{enumerate*}\n",
            "text/plain": [
              " [1] \"PassengerId\" \"Survived\"    \"Pclass\"      \"Name\"        \"Sex\"        \n",
              " [6] \"Age\"         \"SibSp\"       \"Parch\"       \"Ticket\"      \"Fare\"       \n",
              "[11] \"Cabin\"       \"Embarked\"   "
            ]
          },
          "metadata": {}
        }
      ],
      "source": [
        "# Reload the dataset\n",
        "library(titanic)\n",
        "data <- as.data.frame(titanic::titanic_train)\n",
        "\n",
        "# Check columns again\n",
        "colnames(data)\n"
      ]
    },
    {
      "cell_type": "code",
      "execution_count": null,
      "metadata": {
        "id": "oH5CFwn9LyEI"
      },
      "outputs": [],
      "source": [
        "data$Sex <- ifelse(data$Sex == \"male\", 0, 1)\n"
      ]
    },
    {
      "cell_type": "code",
      "execution_count": null,
      "metadata": {
        "colab": {
          "base_uri": "https://localhost:8080/",
          "height": 34
        },
        "id": "5OaElOoYLzsF",
        "outputId": "b891adc1-fcd6-4476-c816-45c4ee9af30b"
      },
      "outputs": [
        {
          "output_type": "display_data",
          "data": {
            "text/html": [
              "<style>\n",
              ".list-inline {list-style: none; margin:0; padding: 0}\n",
              ".list-inline>li {display: inline-block}\n",
              ".list-inline>li:not(:last-child)::after {content: \"\\00b7\"; padding: 0 .5ex}\n",
              "</style>\n",
              "<ol class=list-inline><li>'PassengerId'</li><li>'Survived'</li><li>'Pclass'</li><li>'Name'</li><li>'Sex'</li><li>'Age'</li><li>'SibSp'</li><li>'Parch'</li><li>'Ticket'</li><li>'Fare'</li><li>'Cabin'</li><li>'Embarked'</li></ol>\n"
            ],
            "text/markdown": "1. 'PassengerId'\n2. 'Survived'\n3. 'Pclass'\n4. 'Name'\n5. 'Sex'\n6. 'Age'\n7. 'SibSp'\n8. 'Parch'\n9. 'Ticket'\n10. 'Fare'\n11. 'Cabin'\n12. 'Embarked'\n\n\n",
            "text/latex": "\\begin{enumerate*}\n\\item 'PassengerId'\n\\item 'Survived'\n\\item 'Pclass'\n\\item 'Name'\n\\item 'Sex'\n\\item 'Age'\n\\item 'SibSp'\n\\item 'Parch'\n\\item 'Ticket'\n\\item 'Fare'\n\\item 'Cabin'\n\\item 'Embarked'\n\\end{enumerate*}\n",
            "text/plain": [
              " [1] \"PassengerId\" \"Survived\"    \"Pclass\"      \"Name\"        \"Sex\"        \n",
              " [6] \"Age\"         \"SibSp\"       \"Parch\"       \"Ticket\"      \"Fare\"       \n",
              "[11] \"Cabin\"       \"Embarked\"   "
            ]
          },
          "metadata": {}
        }
      ],
      "source": [
        "colnames(data)\n"
      ]
    },
    {
      "cell_type": "code",
      "execution_count": null,
      "metadata": {
        "id": "iS6ZCHZAL1VB"
      },
      "outputs": [],
      "source": [
        "# Check which columns are available before normalizing\n",
        "cols_to_normalize <- c(\"Age\", \"Fare\", \"FamilySize\")\n",
        "cols_to_normalize <- cols_to_normalize[cols_to_normalize %in% colnames(data)]\n",
        "\n",
        "# Normalize only existing columns\n",
        "normalize <- function(x) (x - min(x)) / (max(x) - min(x))\n",
        "data[cols_to_normalize] <- lapply(data[cols_to_normalize], normalize)\n"
      ]
    },
    {
      "cell_type": "code",
      "execution_count": null,
      "metadata": {
        "colab": {
          "base_uri": "https://localhost:8080/",
          "height": 532
        },
        "id": "MVDNxwM_L3sx",
        "outputId": "b9fad2b4-34a3-4289-fdd6-9ade584f7c96"
      },
      "outputs": [
        {
          "output_type": "stream",
          "name": "stdout",
          "text": [
            "'data.frame':\t891 obs. of  12 variables:\n",
            " $ PassengerId: int  1 2 3 4 5 6 7 8 9 10 ...\n",
            " $ Survived   : int  0 1 1 1 0 0 0 0 1 1 ...\n",
            " $ Pclass     : int  3 1 3 1 3 3 1 3 3 2 ...\n",
            " $ Name       : chr  \"Braund, Mr. Owen Harris\" \"Cumings, Mrs. John Bradley (Florence Briggs Thayer)\" \"Heikkinen, Miss. Laina\" \"Futrelle, Mrs. Jacques Heath (Lily May Peel)\" ...\n",
            " $ Sex        : num  0 1 1 1 0 0 0 0 1 1 ...\n",
            " $ Age        : num  NA NA NA NA NA NA NA NA NA NA ...\n",
            " $ SibSp      : int  1 1 0 1 0 0 0 3 0 1 ...\n",
            " $ Parch      : int  0 0 0 0 0 0 0 1 2 0 ...\n",
            " $ Ticket     : chr  \"A/5 21171\" \"PC 17599\" \"STON/O2. 3101282\" \"113803\" ...\n",
            " $ Fare       : num  0.0142 0.1391 0.0155 0.1036 0.0157 ...\n",
            " $ Cabin      : chr  \"\" \"C85\" \"\" \"C123\" ...\n",
            " $ Embarked   : chr  \"S\" \"C\" \"S\" \"S\" ...\n"
          ]
        },
        {
          "output_type": "display_data",
          "data": {
            "text/html": [
              "<table class=\"dataframe\">\n",
              "<caption>A data.frame: 6 × 12</caption>\n",
              "<thead>\n",
              "\t<tr><th></th><th scope=col>PassengerId</th><th scope=col>Survived</th><th scope=col>Pclass</th><th scope=col>Name</th><th scope=col>Sex</th><th scope=col>Age</th><th scope=col>SibSp</th><th scope=col>Parch</th><th scope=col>Ticket</th><th scope=col>Fare</th><th scope=col>Cabin</th><th scope=col>Embarked</th></tr>\n",
              "\t<tr><th></th><th scope=col>&lt;int&gt;</th><th scope=col>&lt;int&gt;</th><th scope=col>&lt;int&gt;</th><th scope=col>&lt;chr&gt;</th><th scope=col>&lt;dbl&gt;</th><th scope=col>&lt;dbl&gt;</th><th scope=col>&lt;int&gt;</th><th scope=col>&lt;int&gt;</th><th scope=col>&lt;chr&gt;</th><th scope=col>&lt;dbl&gt;</th><th scope=col>&lt;chr&gt;</th><th scope=col>&lt;chr&gt;</th></tr>\n",
              "</thead>\n",
              "<tbody>\n",
              "\t<tr><th scope=row>1</th><td>1</td><td>0</td><td>3</td><td>Braund, Mr. Owen Harris                            </td><td>0</td><td>NA</td><td>1</td><td>0</td><td>A/5 21171       </td><td>0.01415106</td><td>    </td><td>S</td></tr>\n",
              "\t<tr><th scope=row>2</th><td>2</td><td>1</td><td>1</td><td>Cumings, Mrs. John Bradley (Florence Briggs Thayer)</td><td>1</td><td>NA</td><td>1</td><td>0</td><td>PC 17599        </td><td>0.13913574</td><td>C85 </td><td>C</td></tr>\n",
              "\t<tr><th scope=row>3</th><td>3</td><td>1</td><td>3</td><td>Heikkinen, Miss. Laina                             </td><td>1</td><td>NA</td><td>0</td><td>0</td><td>STON/O2. 3101282</td><td>0.01546857</td><td>    </td><td>S</td></tr>\n",
              "\t<tr><th scope=row>4</th><td>4</td><td>1</td><td>1</td><td>Futrelle, Mrs. Jacques Heath (Lily May Peel)       </td><td>1</td><td>NA</td><td>1</td><td>0</td><td>113803          </td><td>0.10364430</td><td>C123</td><td>S</td></tr>\n",
              "\t<tr><th scope=row>5</th><td>5</td><td>0</td><td>3</td><td>Allen, Mr. William Henry                           </td><td>0</td><td>NA</td><td>0</td><td>0</td><td>373450          </td><td>0.01571255</td><td>    </td><td>S</td></tr>\n",
              "\t<tr><th scope=row>6</th><td>6</td><td>0</td><td>3</td><td>Moran, Mr. James                                   </td><td>0</td><td>NA</td><td>0</td><td>0</td><td>330877          </td><td>0.01650950</td><td>    </td><td>Q</td></tr>\n",
              "</tbody>\n",
              "</table>\n"
            ],
            "text/markdown": "\nA data.frame: 6 × 12\n\n| <!--/--> | PassengerId &lt;int&gt; | Survived &lt;int&gt; | Pclass &lt;int&gt; | Name &lt;chr&gt; | Sex &lt;dbl&gt; | Age &lt;dbl&gt; | SibSp &lt;int&gt; | Parch &lt;int&gt; | Ticket &lt;chr&gt; | Fare &lt;dbl&gt; | Cabin &lt;chr&gt; | Embarked &lt;chr&gt; |\n|---|---|---|---|---|---|---|---|---|---|---|---|---|\n| 1 | 1 | 0 | 3 | Braund, Mr. Owen Harris                             | 0 | NA | 1 | 0 | A/5 21171        | 0.01415106 | <!----> | S |\n| 2 | 2 | 1 | 1 | Cumings, Mrs. John Bradley (Florence Briggs Thayer) | 1 | NA | 1 | 0 | PC 17599         | 0.13913574 | C85  | C |\n| 3 | 3 | 1 | 3 | Heikkinen, Miss. Laina                              | 1 | NA | 0 | 0 | STON/O2. 3101282 | 0.01546857 | <!----> | S |\n| 4 | 4 | 1 | 1 | Futrelle, Mrs. Jacques Heath (Lily May Peel)        | 1 | NA | 1 | 0 | 113803           | 0.10364430 | C123 | S |\n| 5 | 5 | 0 | 3 | Allen, Mr. William Henry                            | 0 | NA | 0 | 0 | 373450           | 0.01571255 | <!----> | S |\n| 6 | 6 | 0 | 3 | Moran, Mr. James                                    | 0 | NA | 0 | 0 | 330877           | 0.01650950 | <!----> | Q |\n\n",
            "text/latex": "A data.frame: 6 × 12\n\\begin{tabular}{r|llllllllllll}\n  & PassengerId & Survived & Pclass & Name & Sex & Age & SibSp & Parch & Ticket & Fare & Cabin & Embarked\\\\\n  & <int> & <int> & <int> & <chr> & <dbl> & <dbl> & <int> & <int> & <chr> & <dbl> & <chr> & <chr>\\\\\n\\hline\n\t1 & 1 & 0 & 3 & Braund, Mr. Owen Harris                             & 0 & NA & 1 & 0 & A/5 21171        & 0.01415106 &      & S\\\\\n\t2 & 2 & 1 & 1 & Cumings, Mrs. John Bradley (Florence Briggs Thayer) & 1 & NA & 1 & 0 & PC 17599         & 0.13913574 & C85  & C\\\\\n\t3 & 3 & 1 & 3 & Heikkinen, Miss. Laina                              & 1 & NA & 0 & 0 & STON/O2. 3101282 & 0.01546857 &      & S\\\\\n\t4 & 4 & 1 & 1 & Futrelle, Mrs. Jacques Heath (Lily May Peel)        & 1 & NA & 1 & 0 & 113803           & 0.10364430 & C123 & S\\\\\n\t5 & 5 & 0 & 3 & Allen, Mr. William Henry                            & 0 & NA & 0 & 0 & 373450           & 0.01571255 &      & S\\\\\n\t6 & 6 & 0 & 3 & Moran, Mr. James                                    & 0 & NA & 0 & 0 & 330877           & 0.01650950 &      & Q\\\\\n\\end{tabular}\n",
            "text/plain": [
              "  PassengerId Survived Pclass\n",
              "1 1           0        3     \n",
              "2 2           1        1     \n",
              "3 3           1        3     \n",
              "4 4           1        1     \n",
              "5 5           0        3     \n",
              "6 6           0        3     \n",
              "  Name                                                Sex Age SibSp Parch\n",
              "1 Braund, Mr. Owen Harris                             0   NA  1     0    \n",
              "2 Cumings, Mrs. John Bradley (Florence Briggs Thayer) 1   NA  1     0    \n",
              "3 Heikkinen, Miss. Laina                              1   NA  0     0    \n",
              "4 Futrelle, Mrs. Jacques Heath (Lily May Peel)        1   NA  1     0    \n",
              "5 Allen, Mr. William Henry                            0   NA  0     0    \n",
              "6 Moran, Mr. James                                    0   NA  0     0    \n",
              "  Ticket           Fare       Cabin Embarked\n",
              "1 A/5 21171        0.01415106       S       \n",
              "2 PC 17599         0.13913574 C85   C       \n",
              "3 STON/O2. 3101282 0.01546857       S       \n",
              "4 113803           0.10364430 C123  S       \n",
              "5 373450           0.01571255       S       \n",
              "6 330877           0.01650950       Q       "
            ]
          },
          "metadata": {}
        }
      ],
      "source": [
        "str(data)      # Structure of dataset\n",
        "head(data)     # Check the first rows\n"
      ]
    },
    {
      "cell_type": "code",
      "execution_count": null,
      "metadata": {
        "id": "TTLi1uAsL9u3"
      },
      "outputs": [],
      "source": [
        "set.seed(123)  # Ensure reproducibility\n",
        "train_indices <- sample(1:nrow(data), 0.8 * nrow(data))\n",
        "\n",
        "train_data <- data[train_indices, ]\n",
        "test_data <- data[-train_indices, ]\n"
      ]
    },
    {
      "cell_type": "code",
      "execution_count": null,
      "metadata": {
        "colab": {
          "base_uri": "https://localhost:8080/",
          "height": 34
        },
        "id": "sdc3he89MPSv",
        "outputId": "dffca563-977e-4f07-83c4-f2ded4709b69"
      },
      "outputs": [
        {
          "output_type": "display_data",
          "data": {
            "text/html": [
              "<style>\n",
              ".list-inline {list-style: none; margin:0; padding: 0}\n",
              ".list-inline>li {display: inline-block}\n",
              ".list-inline>li:not(:last-child)::after {content: \"\\00b7\"; padding: 0 .5ex}\n",
              "</style>\n",
              "<ol class=list-inline><li>'PassengerId'</li><li>'Survived'</li><li>'Pclass'</li><li>'Name'</li><li>'Sex'</li><li>'Age'</li><li>'SibSp'</li><li>'Parch'</li><li>'Ticket'</li><li>'Fare'</li><li>'Cabin'</li><li>'Embarked'</li></ol>\n"
            ],
            "text/markdown": "1. 'PassengerId'\n2. 'Survived'\n3. 'Pclass'\n4. 'Name'\n5. 'Sex'\n6. 'Age'\n7. 'SibSp'\n8. 'Parch'\n9. 'Ticket'\n10. 'Fare'\n11. 'Cabin'\n12. 'Embarked'\n\n\n",
            "text/latex": "\\begin{enumerate*}\n\\item 'PassengerId'\n\\item 'Survived'\n\\item 'Pclass'\n\\item 'Name'\n\\item 'Sex'\n\\item 'Age'\n\\item 'SibSp'\n\\item 'Parch'\n\\item 'Ticket'\n\\item 'Fare'\n\\item 'Cabin'\n\\item 'Embarked'\n\\end{enumerate*}\n",
            "text/plain": [
              " [1] \"PassengerId\" \"Survived\"    \"Pclass\"      \"Name\"        \"Sex\"        \n",
              " [6] \"Age\"         \"SibSp\"       \"Parch\"       \"Ticket\"      \"Fare\"       \n",
              "[11] \"Cabin\"       \"Embarked\"   "
            ]
          },
          "metadata": {}
        }
      ],
      "source": [
        "colnames(train_data)\n"
      ]
    },
    {
      "cell_type": "code",
      "execution_count": null,
      "metadata": {
        "colab": {
          "base_uri": "https://localhost:8080/"
        },
        "id": "hvYRQoMcMSNv",
        "outputId": "caed0052-e1cb-4ad1-825e-0bd998533696"
      },
      "outputs": [
        {
          "output_type": "stream",
          "name": "stdout",
          "text": [
            "Missing columns: FamilySize \n"
          ]
        }
      ],
      "source": [
        "predictors <- c(\"Pclass\", \"Age\", \"Fare\", \"Sex\", \"FamilySize\")\n",
        "missing_cols <- setdiff(predictors, colnames(train_data))\n",
        "\n",
        "if (length(missing_cols) > 0) {\n",
        "  cat(\"Missing columns:\", missing_cols, \"\\n\")\n",
        "} else {\n",
        "  cat(\"All columns are present.\\n\")\n",
        "}\n"
      ]
    },
    {
      "cell_type": "code",
      "execution_count": null,
      "metadata": {
        "colab": {
          "base_uri": "https://localhost:8080/"
        },
        "id": "auYEfBxzMeOX",
        "outputId": "ab508823-8bb7-4b2d-9a6f-a0c388d865da"
      },
      "outputs": [
        {
          "output_type": "stream",
          "name": "stdout",
          "text": [
            "FamilySize column added successfully!\n"
          ]
        }
      ],
      "source": [
        "# Ensure SibSp and Parch exist\n",
        "if (\"SibSp\" %in% colnames(data) && \"Parch\" %in% colnames(data)) {\n",
        "  data$FamilySize <- data$SibSp + data$Parch + 1\n",
        "  cat(\"FamilySize column added successfully!\\n\")\n",
        "} else {\n",
        "  cat(\"Error: SibSp or Parch column not found!\\n\")\n",
        "}\n"
      ]
    },
    {
      "cell_type": "code",
      "execution_count": null,
      "metadata": {
        "colab": {
          "base_uri": "https://localhost:8080/",
          "height": 34
        },
        "id": "GYz66PyyMgjP",
        "outputId": "389d011e-5919-470c-a406-16249e209c77"
      },
      "outputs": [
        {
          "output_type": "display_data",
          "data": {
            "text/html": [
              "<style>\n",
              ".list-inline {list-style: none; margin:0; padding: 0}\n",
              ".list-inline>li {display: inline-block}\n",
              ".list-inline>li:not(:last-child)::after {content: \"\\00b7\"; padding: 0 .5ex}\n",
              "</style>\n",
              "<ol class=list-inline><li>'PassengerId'</li><li>'Survived'</li><li>'Pclass'</li><li>'Name'</li><li>'Sex'</li><li>'Age'</li><li>'SibSp'</li><li>'Parch'</li><li>'Ticket'</li><li>'Fare'</li><li>'Cabin'</li><li>'Embarked'</li><li>'FamilySize'</li></ol>\n"
            ],
            "text/markdown": "1. 'PassengerId'\n2. 'Survived'\n3. 'Pclass'\n4. 'Name'\n5. 'Sex'\n6. 'Age'\n7. 'SibSp'\n8. 'Parch'\n9. 'Ticket'\n10. 'Fare'\n11. 'Cabin'\n12. 'Embarked'\n13. 'FamilySize'\n\n\n",
            "text/latex": "\\begin{enumerate*}\n\\item 'PassengerId'\n\\item 'Survived'\n\\item 'Pclass'\n\\item 'Name'\n\\item 'Sex'\n\\item 'Age'\n\\item 'SibSp'\n\\item 'Parch'\n\\item 'Ticket'\n\\item 'Fare'\n\\item 'Cabin'\n\\item 'Embarked'\n\\item 'FamilySize'\n\\end{enumerate*}\n",
            "text/plain": [
              " [1] \"PassengerId\" \"Survived\"    \"Pclass\"      \"Name\"        \"Sex\"        \n",
              " [6] \"Age\"         \"SibSp\"       \"Parch\"       \"Ticket\"      \"Fare\"       \n",
              "[11] \"Cabin\"       \"Embarked\"    \"FamilySize\" "
            ]
          },
          "metadata": {}
        }
      ],
      "source": [
        "colnames(data)\n"
      ]
    },
    {
      "cell_type": "code",
      "execution_count": null,
      "metadata": {
        "id": "BbLqUqXPMixM"
      },
      "outputs": [],
      "source": [
        "set.seed(123)\n",
        "train_indices <- sample(1:nrow(data), 0.8 * nrow(data))\n",
        "\n",
        "train_data <- data[train_indices, ]\n",
        "test_data <- data[-train_indices, ]\n"
      ]
    },
    {
      "cell_type": "code",
      "execution_count": null,
      "metadata": {
        "colab": {
          "base_uri": "https://localhost:8080/",
          "height": 52
        },
        "id": "r4FlicLzMtSV",
        "outputId": "0e4ccec4-9507-4f24-fef1-50c2b6fc5e34"
      },
      "outputs": [
        {
          "output_type": "display_data",
          "data": {
            "text/html": [
              "<style>\n",
              ".dl-inline {width: auto; margin:0; padding: 0}\n",
              ".dl-inline>dt, .dl-inline>dd {float: none; width: auto; display: inline-block}\n",
              ".dl-inline>dt::after {content: \":\\0020\"; padding-right: .5ex}\n",
              ".dl-inline>dt:not(:first-of-type) {padding-left: .5ex}\n",
              "</style><dl class=dl-inline><dt>PassengerId</dt><dd>0</dd><dt>Survived</dt><dd>0</dd><dt>Pclass</dt><dd>0</dd><dt>Name</dt><dd>0</dd><dt>Sex</dt><dd>0</dd><dt>Age</dt><dd>891</dd><dt>SibSp</dt><dd>0</dd><dt>Parch</dt><dd>0</dd><dt>Ticket</dt><dd>0</dd><dt>Fare</dt><dd>0</dd><dt>Cabin</dt><dd>0</dd><dt>Embarked</dt><dd>0</dd><dt>FamilySize</dt><dd>0</dd></dl>\n"
            ],
            "text/markdown": "PassengerId\n:   0Survived\n:   0Pclass\n:   0Name\n:   0Sex\n:   0Age\n:   891SibSp\n:   0Parch\n:   0Ticket\n:   0Fare\n:   0Cabin\n:   0Embarked\n:   0FamilySize\n:   0\n\n",
            "text/latex": "\\begin{description*}\n\\item[PassengerId] 0\n\\item[Survived] 0\n\\item[Pclass] 0\n\\item[Name] 0\n\\item[Sex] 0\n\\item[Age] 891\n\\item[SibSp] 0\n\\item[Parch] 0\n\\item[Ticket] 0\n\\item[Fare] 0\n\\item[Cabin] 0\n\\item[Embarked] 0\n\\item[FamilySize] 0\n\\end{description*}\n",
            "text/plain": [
              "PassengerId    Survived      Pclass        Name         Sex         Age \n",
              "          0           0           0           0           0         891 \n",
              "      SibSp       Parch      Ticket        Fare       Cabin    Embarked \n",
              "          0           0           0           0           0           0 \n",
              " FamilySize \n",
              "          0 "
            ]
          },
          "metadata": {}
        }
      ],
      "source": [
        "# Check for missing values in the entire dataset\n",
        "colSums(is.na(data))\n"
      ]
    },
    {
      "cell_type": "code",
      "execution_count": null,
      "metadata": {
        "colab": {
          "base_uri": "https://localhost:8080/",
          "height": 332
        },
        "id": "4czsrAnHM3CA",
        "outputId": "56083010-4390-4a89-9489-5b4d6e5a6817"
      },
      "outputs": [
        {
          "output_type": "stream",
          "name": "stdout",
          "text": [
            "'data.frame':\t891 obs. of  13 variables:\n",
            " $ PassengerId: int  1 2 3 4 5 6 7 8 9 10 ...\n",
            " $ Survived   : int  0 1 1 1 0 0 0 0 1 1 ...\n",
            " $ Pclass     : int  3 1 3 1 3 3 1 3 3 2 ...\n",
            " $ Name       : chr  \"Braund, Mr. Owen Harris\" \"Cumings, Mrs. John Bradley (Florence Briggs Thayer)\" \"Heikkinen, Miss. Laina\" \"Futrelle, Mrs. Jacques Heath (Lily May Peel)\" ...\n",
            " $ Sex        : num  0 1 1 1 0 0 0 0 1 1 ...\n",
            " $ Age        : num  NA NA NA NA NA NA NA NA NA NA ...\n",
            " $ SibSp      : int  1 1 0 1 0 0 0 3 0 1 ...\n",
            " $ Parch      : int  0 0 0 0 0 0 0 1 2 0 ...\n",
            " $ Ticket     : chr  \"A/5 21171\" \"PC 17599\" \"STON/O2. 3101282\" \"113803\" ...\n",
            " $ Fare       : num  0.0142 0.1391 0.0155 0.1036 0.0157 ...\n",
            " $ Cabin      : chr  \"\" \"C85\" \"\" \"C123\" ...\n",
            " $ Embarked   : chr  \"S\" \"C\" \"S\" \"S\" ...\n",
            " $ FamilySize : num  2 2 1 2 1 1 1 5 3 2 ...\n"
          ]
        },
        {
          "output_type": "display_data",
          "data": {
            "text/html": [
              "<style>\n",
              ".list-inline {list-style: none; margin:0; padding: 0}\n",
              ".list-inline>li {display: inline-block}\n",
              ".list-inline>li:not(:last-child)::after {content: \"\\00b7\"; padding: 0 .5ex}\n",
              "</style>\n",
              "<ol class=list-inline><li>'PassengerId'</li><li>'Survived'</li><li>'Pclass'</li><li>'Name'</li><li>'Sex'</li><li>'Age'</li><li>'SibSp'</li><li>'Parch'</li><li>'Ticket'</li><li>'Fare'</li><li>'Cabin'</li><li>'Embarked'</li><li>'FamilySize'</li></ol>\n"
            ],
            "text/markdown": "1. 'PassengerId'\n2. 'Survived'\n3. 'Pclass'\n4. 'Name'\n5. 'Sex'\n6. 'Age'\n7. 'SibSp'\n8. 'Parch'\n9. 'Ticket'\n10. 'Fare'\n11. 'Cabin'\n12. 'Embarked'\n13. 'FamilySize'\n\n\n",
            "text/latex": "\\begin{enumerate*}\n\\item 'PassengerId'\n\\item 'Survived'\n\\item 'Pclass'\n\\item 'Name'\n\\item 'Sex'\n\\item 'Age'\n\\item 'SibSp'\n\\item 'Parch'\n\\item 'Ticket'\n\\item 'Fare'\n\\item 'Cabin'\n\\item 'Embarked'\n\\item 'FamilySize'\n\\end{enumerate*}\n",
            "text/plain": [
              " [1] \"PassengerId\" \"Survived\"    \"Pclass\"      \"Name\"        \"Sex\"        \n",
              " [6] \"Age\"         \"SibSp\"       \"Parch\"       \"Ticket\"      \"Fare\"       \n",
              "[11] \"Cabin\"       \"Embarked\"    \"FamilySize\" "
            ]
          },
          "metadata": {}
        },
        {
          "output_type": "display_data",
          "data": {
            "text/html": [
              "<style>\n",
              ".dl-inline {width: auto; margin:0; padding: 0}\n",
              ".dl-inline>dt, .dl-inline>dd {float: none; width: auto; display: inline-block}\n",
              ".dl-inline>dt::after {content: \":\\0020\"; padding-right: .5ex}\n",
              ".dl-inline>dt:not(:first-of-type) {padding-left: .5ex}\n",
              "</style><dl class=dl-inline><dt>PassengerId</dt><dd>0</dd><dt>Survived</dt><dd>0</dd><dt>Pclass</dt><dd>0</dd><dt>Name</dt><dd>0</dd><dt>Sex</dt><dd>0</dd><dt>Age</dt><dd>891</dd><dt>SibSp</dt><dd>0</dd><dt>Parch</dt><dd>0</dd><dt>Ticket</dt><dd>0</dd><dt>Fare</dt><dd>0</dd><dt>Cabin</dt><dd>0</dd><dt>Embarked</dt><dd>0</dd><dt>FamilySize</dt><dd>0</dd></dl>\n"
            ],
            "text/markdown": "PassengerId\n:   0Survived\n:   0Pclass\n:   0Name\n:   0Sex\n:   0Age\n:   891SibSp\n:   0Parch\n:   0Ticket\n:   0Fare\n:   0Cabin\n:   0Embarked\n:   0FamilySize\n:   0\n\n",
            "text/latex": "\\begin{description*}\n\\item[PassengerId] 0\n\\item[Survived] 0\n\\item[Pclass] 0\n\\item[Name] 0\n\\item[Sex] 0\n\\item[Age] 891\n\\item[SibSp] 0\n\\item[Parch] 0\n\\item[Ticket] 0\n\\item[Fare] 0\n\\item[Cabin] 0\n\\item[Embarked] 0\n\\item[FamilySize] 0\n\\end{description*}\n",
            "text/plain": [
              "PassengerId    Survived      Pclass        Name         Sex         Age \n",
              "          0           0           0           0           0         891 \n",
              "      SibSp       Parch      Ticket        Fare       Cabin    Embarked \n",
              "          0           0           0           0           0           0 \n",
              " FamilySize \n",
              "          0 "
            ]
          },
          "metadata": {}
        }
      ],
      "source": [
        "str(data)         # View data structure\n",
        "colnames(data)    # Check column names\n",
        "colSums(is.na(data))  # Count missing values in each column\n"
      ]
    },
    {
      "cell_type": "code",
      "execution_count": null,
      "metadata": {
        "id": "bNcgXn6XM_h5"
      },
      "outputs": [],
      "source": [
        "data$Age[is.na(data$Age)] <- median(data$Age, na.rm = TRUE)\n"
      ]
    },
    {
      "cell_type": "code",
      "execution_count": null,
      "metadata": {
        "id": "v0nPg2YFNA_d"
      },
      "outputs": [],
      "source": [
        "data$Age[is.na(data$Age)] <- mean(data$Age, na.rm = TRUE)\n"
      ]
    },
    {
      "cell_type": "code",
      "execution_count": null,
      "metadata": {
        "colab": {
          "base_uri": "https://localhost:8080/",
          "height": 52
        },
        "id": "bbZwspKANCuE",
        "outputId": "79c0c55e-8e7f-476d-c094-c5592b91f0fc"
      },
      "outputs": [
        {
          "output_type": "display_data",
          "data": {
            "text/html": [
              "<style>\n",
              ".dl-inline {width: auto; margin:0; padding: 0}\n",
              ".dl-inline>dt, .dl-inline>dd {float: none; width: auto; display: inline-block}\n",
              ".dl-inline>dt::after {content: \":\\0020\"; padding-right: .5ex}\n",
              ".dl-inline>dt:not(:first-of-type) {padding-left: .5ex}\n",
              "</style><dl class=dl-inline><dt>PassengerId</dt><dd>0</dd><dt>Survived</dt><dd>0</dd><dt>Pclass</dt><dd>0</dd><dt>Name</dt><dd>0</dd><dt>Sex</dt><dd>0</dd><dt>Age</dt><dd>891</dd><dt>SibSp</dt><dd>0</dd><dt>Parch</dt><dd>0</dd><dt>Ticket</dt><dd>0</dd><dt>Fare</dt><dd>0</dd><dt>Cabin</dt><dd>0</dd><dt>Embarked</dt><dd>0</dd><dt>FamilySize</dt><dd>0</dd></dl>\n"
            ],
            "text/markdown": "PassengerId\n:   0Survived\n:   0Pclass\n:   0Name\n:   0Sex\n:   0Age\n:   891SibSp\n:   0Parch\n:   0Ticket\n:   0Fare\n:   0Cabin\n:   0Embarked\n:   0FamilySize\n:   0\n\n",
            "text/latex": "\\begin{description*}\n\\item[PassengerId] 0\n\\item[Survived] 0\n\\item[Pclass] 0\n\\item[Name] 0\n\\item[Sex] 0\n\\item[Age] 891\n\\item[SibSp] 0\n\\item[Parch] 0\n\\item[Ticket] 0\n\\item[Fare] 0\n\\item[Cabin] 0\n\\item[Embarked] 0\n\\item[FamilySize] 0\n\\end{description*}\n",
            "text/plain": [
              "PassengerId    Survived      Pclass        Name         Sex         Age \n",
              "          0           0           0           0           0         891 \n",
              "      SibSp       Parch      Ticket        Fare       Cabin    Embarked \n",
              "          0           0           0           0           0           0 \n",
              " FamilySize \n",
              "          0 "
            ]
          },
          "metadata": {}
        }
      ],
      "source": [
        "colSums(is.na(data))\n"
      ]
    },
    {
      "cell_type": "code",
      "execution_count": null,
      "metadata": {
        "colab": {
          "base_uri": "https://localhost:8080/"
        },
        "id": "sj28Kjb7NafZ",
        "outputId": "1fc9c9eb-09ca-4654-963f-a8878878e744"
      },
      "outputs": [
        {
          "output_type": "stream",
          "name": "stdout",
          "text": [
            " num [1:891] NaN NaN NaN NaN NaN NaN NaN NaN NaN NaN ...\n"
          ]
        }
      ],
      "source": [
        "str(data$Age)\n"
      ]
    },
    {
      "cell_type": "code",
      "execution_count": null,
      "metadata": {
        "id": "QC1sU_6HNg75"
      },
      "outputs": [],
      "source": [
        "# Reload the dataset to restore the correct values\n",
        "data <- as.data.frame(titanic::titanic_train)\n"
      ]
    },
    {
      "cell_type": "code",
      "execution_count": null,
      "metadata": {
        "colab": {
          "base_uri": "https://localhost:8080/",
          "height": 52
        },
        "id": "U4HCe8GKNiYZ",
        "outputId": "d93f24e0-60c8-49c5-c3e2-b6d11356ded0"
      },
      "outputs": [
        {
          "output_type": "display_data",
          "data": {
            "text/html": [
              "<style>\n",
              ".dl-inline {width: auto; margin:0; padding: 0}\n",
              ".dl-inline>dt, .dl-inline>dd {float: none; width: auto; display: inline-block}\n",
              ".dl-inline>dt::after {content: \":\\0020\"; padding-right: .5ex}\n",
              ".dl-inline>dt:not(:first-of-type) {padding-left: .5ex}\n",
              "</style><dl class=dl-inline><dt>PassengerId</dt><dd>0</dd><dt>Survived</dt><dd>0</dd><dt>Pclass</dt><dd>0</dd><dt>Name</dt><dd>0</dd><dt>Sex</dt><dd>0</dd><dt>Age</dt><dd>177</dd><dt>SibSp</dt><dd>0</dd><dt>Parch</dt><dd>0</dd><dt>Ticket</dt><dd>0</dd><dt>Fare</dt><dd>0</dd><dt>Cabin</dt><dd>0</dd><dt>Embarked</dt><dd>0</dd></dl>\n"
            ],
            "text/markdown": "PassengerId\n:   0Survived\n:   0Pclass\n:   0Name\n:   0Sex\n:   0Age\n:   177SibSp\n:   0Parch\n:   0Ticket\n:   0Fare\n:   0Cabin\n:   0Embarked\n:   0\n\n",
            "text/latex": "\\begin{description*}\n\\item[PassengerId] 0\n\\item[Survived] 0\n\\item[Pclass] 0\n\\item[Name] 0\n\\item[Sex] 0\n\\item[Age] 177\n\\item[SibSp] 0\n\\item[Parch] 0\n\\item[Ticket] 0\n\\item[Fare] 0\n\\item[Cabin] 0\n\\item[Embarked] 0\n\\end{description*}\n",
            "text/plain": [
              "PassengerId    Survived      Pclass        Name         Sex         Age \n",
              "          0           0           0           0           0         177 \n",
              "      SibSp       Parch      Ticket        Fare       Cabin    Embarked \n",
              "          0           0           0           0           0           0 "
            ]
          },
          "metadata": {}
        }
      ],
      "source": [
        "colSums(is.na(data))\n"
      ]
    },
    {
      "cell_type": "code",
      "execution_count": null,
      "metadata": {
        "id": "oKAzRoOWNpnm"
      },
      "outputs": [],
      "source": [
        "data$Age[is.na(data$Age)] <- median(data$Age, na.rm = TRUE)\n"
      ]
    },
    {
      "cell_type": "code",
      "execution_count": null,
      "metadata": {
        "colab": {
          "base_uri": "https://localhost:8080/",
          "height": 52
        },
        "id": "imHwYwZaNrwD",
        "outputId": "960ef020-e042-4b3a-9ec1-7ec0d48c4dd1"
      },
      "outputs": [
        {
          "output_type": "display_data",
          "data": {
            "text/html": [
              "<style>\n",
              ".dl-inline {width: auto; margin:0; padding: 0}\n",
              ".dl-inline>dt, .dl-inline>dd {float: none; width: auto; display: inline-block}\n",
              ".dl-inline>dt::after {content: \":\\0020\"; padding-right: .5ex}\n",
              ".dl-inline>dt:not(:first-of-type) {padding-left: .5ex}\n",
              "</style><dl class=dl-inline><dt>PassengerId</dt><dd>0</dd><dt>Survived</dt><dd>0</dd><dt>Pclass</dt><dd>0</dd><dt>Name</dt><dd>0</dd><dt>Sex</dt><dd>0</dd><dt>Age</dt><dd>0</dd><dt>SibSp</dt><dd>0</dd><dt>Parch</dt><dd>0</dd><dt>Ticket</dt><dd>0</dd><dt>Fare</dt><dd>0</dd><dt>Cabin</dt><dd>0</dd><dt>Embarked</dt><dd>0</dd></dl>\n"
            ],
            "text/markdown": "PassengerId\n:   0Survived\n:   0Pclass\n:   0Name\n:   0Sex\n:   0Age\n:   0SibSp\n:   0Parch\n:   0Ticket\n:   0Fare\n:   0Cabin\n:   0Embarked\n:   0\n\n",
            "text/latex": "\\begin{description*}\n\\item[PassengerId] 0\n\\item[Survived] 0\n\\item[Pclass] 0\n\\item[Name] 0\n\\item[Sex] 0\n\\item[Age] 0\n\\item[SibSp] 0\n\\item[Parch] 0\n\\item[Ticket] 0\n\\item[Fare] 0\n\\item[Cabin] 0\n\\item[Embarked] 0\n\\end{description*}\n",
            "text/plain": [
              "PassengerId    Survived      Pclass        Name         Sex         Age \n",
              "          0           0           0           0           0           0 \n",
              "      SibSp       Parch      Ticket        Fare       Cabin    Embarked \n",
              "          0           0           0           0           0           0 "
            ]
          },
          "metadata": {}
        }
      ],
      "source": [
        "colSums(is.na(data))\n"
      ]
    },
    {
      "cell_type": "code",
      "execution_count": null,
      "metadata": {
        "id": "L8FIciDxN5op"
      },
      "outputs": [],
      "source": [
        "predictors <- c(\"Pclass\", \"Sex\", \"Age\", \"Fare\", \"FamilySize\", \"SibSp\", \"Parch\", \"Embarked\")\n",
        "target <- \"Survived\"\n"
      ]
    },
    {
      "cell_type": "code",
      "execution_count": null,
      "metadata": {
        "id": "j2PiEHTON6xT"
      },
      "outputs": [],
      "source": [
        "# Replace missing Embarked values with most frequent ('S')\n",
        "data$Embarked[is.na(data$Embarked)] <- \"S\"\n",
        "\n",
        "# Convert Embarked to numeric (C=0, Q=1, S=2)\n",
        "data$Embarked <- as.numeric(factor(data$Embarked, levels = c(\"C\", \"Q\", \"S\")))\n"
      ]
    },
    {
      "cell_type": "code",
      "execution_count": null,
      "metadata": {
        "colab": {
          "base_uri": "https://localhost:8080/",
          "height": 34
        },
        "id": "_ZGmesJvOGY0",
        "outputId": "26fe401b-896a-416e-ab09-5bd1a4fb0546"
      },
      "outputs": [
        {
          "output_type": "display_data",
          "data": {
            "text/html": [
              "<style>\n",
              ".list-inline {list-style: none; margin:0; padding: 0}\n",
              ".list-inline>li {display: inline-block}\n",
              ".list-inline>li:not(:last-child)::after {content: \"\\00b7\"; padding: 0 .5ex}\n",
              "</style>\n",
              "<ol class=list-inline><li>'PassengerId'</li><li>'Survived'</li><li>'Pclass'</li><li>'Name'</li><li>'Sex'</li><li>'Age'</li><li>'SibSp'</li><li>'Parch'</li><li>'Ticket'</li><li>'Fare'</li><li>'Cabin'</li><li>'Embarked'</li></ol>\n"
            ],
            "text/markdown": "1. 'PassengerId'\n2. 'Survived'\n3. 'Pclass'\n4. 'Name'\n5. 'Sex'\n6. 'Age'\n7. 'SibSp'\n8. 'Parch'\n9. 'Ticket'\n10. 'Fare'\n11. 'Cabin'\n12. 'Embarked'\n\n\n",
            "text/latex": "\\begin{enumerate*}\n\\item 'PassengerId'\n\\item 'Survived'\n\\item 'Pclass'\n\\item 'Name'\n\\item 'Sex'\n\\item 'Age'\n\\item 'SibSp'\n\\item 'Parch'\n\\item 'Ticket'\n\\item 'Fare'\n\\item 'Cabin'\n\\item 'Embarked'\n\\end{enumerate*}\n",
            "text/plain": [
              " [1] \"PassengerId\" \"Survived\"    \"Pclass\"      \"Name\"        \"Sex\"        \n",
              " [6] \"Age\"         \"SibSp\"       \"Parch\"       \"Ticket\"      \"Fare\"       \n",
              "[11] \"Cabin\"       \"Embarked\"   "
            ]
          },
          "metadata": {}
        }
      ],
      "source": [
        "colnames(data)\n"
      ]
    },
    {
      "cell_type": "code",
      "execution_count": null,
      "metadata": {
        "colab": {
          "base_uri": "https://localhost:8080/",
          "height": 34
        },
        "id": "o68PMEkxONm7",
        "outputId": "f110b2b2-d559-4e82-a636-95072ec095ab"
      },
      "outputs": [
        {
          "output_type": "display_data",
          "data": {
            "text/html": [
              "<style>\n",
              ".list-inline {list-style: none; margin:0; padding: 0}\n",
              ".list-inline>li {display: inline-block}\n",
              ".list-inline>li:not(:last-child)::after {content: \"\\00b7\"; padding: 0 .5ex}\n",
              "</style>\n",
              "<ol class=list-inline><li>'PassengerId'</li><li>'Survived'</li><li>'Pclass'</li><li>'Name'</li><li>'Sex'</li><li>'Age'</li><li>'SibSp'</li><li>'Parch'</li><li>'Ticket'</li><li>'Fare'</li><li>'Cabin'</li><li>'Embarked'</li></ol>\n"
            ],
            "text/markdown": "1. 'PassengerId'\n2. 'Survived'\n3. 'Pclass'\n4. 'Name'\n5. 'Sex'\n6. 'Age'\n7. 'SibSp'\n8. 'Parch'\n9. 'Ticket'\n10. 'Fare'\n11. 'Cabin'\n12. 'Embarked'\n\n\n",
            "text/latex": "\\begin{enumerate*}\n\\item 'PassengerId'\n\\item 'Survived'\n\\item 'Pclass'\n\\item 'Name'\n\\item 'Sex'\n\\item 'Age'\n\\item 'SibSp'\n\\item 'Parch'\n\\item 'Ticket'\n\\item 'Fare'\n\\item 'Cabin'\n\\item 'Embarked'\n\\end{enumerate*}\n",
            "text/plain": [
              " [1] \"PassengerId\" \"Survived\"    \"Pclass\"      \"Name\"        \"Sex\"        \n",
              " [6] \"Age\"         \"SibSp\"       \"Parch\"       \"Ticket\"      \"Fare\"       \n",
              "[11] \"Cabin\"       \"Embarked\"   "
            ]
          },
          "metadata": {}
        }
      ],
      "source": [
        "colnames(data)\n"
      ]
    },
    {
      "cell_type": "code",
      "execution_count": null,
      "metadata": {
        "id": "8o_CFUmeOPDF"
      },
      "outputs": [],
      "source": [
        "predictors <- c(\"Pclass\", \"Sex\", \"Age\", \"Fare\", \"SibSp\", \"Parch\")\n"
      ]
    },
    {
      "cell_type": "code",
      "execution_count": null,
      "metadata": {
        "colab": {
          "base_uri": "https://localhost:8080/"
        },
        "id": "j-cUCrG5OXgV",
        "outputId": "df0856a4-44dc-41f5-923e-41efd7324072"
      },
      "outputs": [
        {
          "output_type": "stream",
          "name": "stdout",
          "text": [
            "'data.frame':\t891 obs. of  6 variables:\n",
            " $ Pclass: int  3 1 3 1 3 3 1 3 3 2 ...\n",
            " $ Sex   : chr  \"male\" \"female\" \"female\" \"female\" ...\n",
            " $ Age   : num  22 38 26 35 35 28 54 2 27 14 ...\n",
            " $ Fare  : num  7.25 71.28 7.92 53.1 8.05 ...\n",
            " $ SibSp : int  1 1 0 1 0 0 0 3 0 1 ...\n",
            " $ Parch : int  0 0 0 0 0 0 0 1 2 0 ...\n"
          ]
        }
      ],
      "source": [
        "str(data[predictors])\n"
      ]
    },
    {
      "cell_type": "code",
      "execution_count": null,
      "metadata": {
        "colab": {
          "base_uri": "https://localhost:8080/"
        },
        "id": "E8D7S-RhObL9",
        "outputId": "1b0aa922-78e9-4f05-81d7-0dcd369b8574"
      },
      "outputs": [
        {
          "output_type": "stream",
          "name": "stderr",
          "text": [
            "Warning message:\n",
            "“NAs introduced by coercion”\n"
          ]
        }
      ],
      "source": [
        "data$Sex <- as.numeric(data$Sex)  # Ensure \"Sex\" is numeric\n",
        "data$Pclass <- as.numeric(data$Pclass)  # Ensure \"Pclass\" is numeric\n"
      ]
    },
    {
      "cell_type": "code",
      "execution_count": null,
      "metadata": {
        "colab": {
          "base_uri": "https://localhost:8080/"
        },
        "id": "kKB2k6_aOkXR",
        "outputId": "0d3d2e6a-49d8-4d36-c5a8-c865cfe621c7"
      },
      "outputs": [
        {
          "output_type": "stream",
          "name": "stdout",
          "text": [
            "'data.frame':\t891 obs. of  12 variables:\n",
            " $ PassengerId: int  1 2 3 4 5 6 7 8 9 10 ...\n",
            " $ Survived   : int  0 1 1 1 0 0 0 0 1 1 ...\n",
            " $ Pclass     : num  3 1 3 1 3 3 1 3 3 2 ...\n",
            " $ Name       : chr  \"Braund, Mr. Owen Harris\" \"Cumings, Mrs. John Bradley (Florence Briggs Thayer)\" \"Heikkinen, Miss. Laina\" \"Futrelle, Mrs. Jacques Heath (Lily May Peel)\" ...\n",
            " $ Sex        : num  NA NA NA NA NA NA NA NA NA NA ...\n",
            " $ Age        : num  22 38 26 35 35 28 54 2 27 14 ...\n",
            " $ SibSp      : int  1 1 0 1 0 0 0 3 0 1 ...\n",
            " $ Parch      : int  0 0 0 0 0 0 0 1 2 0 ...\n",
            " $ Ticket     : chr  \"A/5 21171\" \"PC 17599\" \"STON/O2. 3101282\" \"113803\" ...\n",
            " $ Fare       : num  7.25 71.28 7.92 53.1 8.05 ...\n",
            " $ Cabin      : chr  \"\" \"C85\" \"\" \"C123\" ...\n",
            " $ Embarked   : num  3 1 3 3 3 2 3 3 3 1 ...\n"
          ]
        }
      ],
      "source": [
        "str(data)\n"
      ]
    },
    {
      "cell_type": "code",
      "execution_count": null,
      "metadata": {
        "id": "465uWmUIOyOT"
      },
      "outputs": [],
      "source": [
        "data <- data[!is.na(data$Sex), ]\n"
      ]
    },
    {
      "cell_type": "code",
      "execution_count": null,
      "metadata": {
        "id": "QTpNO-wVO0iV"
      },
      "outputs": [],
      "source": [
        "most_common_sex <- as.numeric(names(sort(table(data$Sex), decreasing = TRUE)[1]))\n",
        "data$Sex[is.na(data$Sex)] <- most_common_sex\n"
      ]
    },
    {
      "cell_type": "code",
      "execution_count": null,
      "metadata": {
        "colab": {
          "base_uri": "https://localhost:8080/",
          "height": 52
        },
        "id": "aLbiGPtkO3Ib",
        "outputId": "f422784e-ae61-4b95-ea63-0e663d49085c"
      },
      "outputs": [
        {
          "output_type": "display_data",
          "data": {
            "text/plain": [
              "   Min. 1st Qu.  Median    Mean 3rd Qu.    Max. \n",
              "                                                "
            ]
          },
          "metadata": {}
        }
      ],
      "source": [
        "summary(data$Sex)\n"
      ]
    },
    {
      "cell_type": "code",
      "execution_count": null,
      "metadata": {
        "colab": {
          "base_uri": "https://localhost:8080/",
          "height": 297
        },
        "id": "8P-_1L0XO-YD",
        "outputId": "8f2de4ab-8856-4762-a538-4818031e6e8d"
      },
      "outputs": [
        {
          "output_type": "error",
          "ename": "ERROR",
          "evalue": "Error in `[.data.frame`(data, numeric_cols): undefined columns selected\n",
          "traceback": [
            "Error in `[.data.frame`(data, numeric_cols): undefined columns selected\nTraceback:\n",
            "1. data[numeric_cols]",
            "2. `[.data.frame`(data, numeric_cols)",
            "3. stop(\"undefined columns selected\")",
            "4. .handleSimpleError(function (cnd) \n . {\n .     watcher$capture_plot_and_output()\n .     cnd <- sanitize_call(cnd)\n .     watcher$push(cnd)\n .     switch(on_error, continue = invokeRestart(\"eval_continue\"), \n .         stop = invokeRestart(\"eval_stop\"), error = NULL)\n . }, \"undefined columns selected\", base::quote(`[.data.frame`(data, \n .     numeric_cols)))"
          ]
        }
      ],
      "source": [
        "# Define normalization function\n",
        "normalize <- function(x) {\n",
        "  return ((x - min(x, na.rm = TRUE)) / (max(x, na.rm = TRUE) - min(x, na.rm = TRUE)))\n",
        "}\n",
        "\n",
        "# Select only numeric columns for normalization\n",
        "numeric_cols <- c(\"Pclass\", \"Age\", \"Fare\", \"Sex\", \"SibSp\", \"Parch\", \"FamilySize\")\n",
        "data[numeric_cols] <- lapply(data[numeric_cols], normalize)\n"
      ]
    },
    {
      "cell_type": "code",
      "execution_count": null,
      "metadata": {
        "colab": {
          "base_uri": "https://localhost:8080/",
          "height": 34
        },
        "id": "ry8Za0mKPENr",
        "outputId": "02e5712d-462d-4eb0-e59e-fb89a605f7b2"
      },
      "outputs": [
        {
          "output_type": "display_data",
          "data": {
            "text/html": [
              "<style>\n",
              ".list-inline {list-style: none; margin:0; padding: 0}\n",
              ".list-inline>li {display: inline-block}\n",
              ".list-inline>li:not(:last-child)::after {content: \"\\00b7\"; padding: 0 .5ex}\n",
              "</style>\n",
              "<ol class=list-inline><li>'PassengerId'</li><li>'Survived'</li><li>'Pclass'</li><li>'Name'</li><li>'Sex'</li><li>'Age'</li><li>'SibSp'</li><li>'Parch'</li><li>'Ticket'</li><li>'Fare'</li><li>'Cabin'</li><li>'Embarked'</li></ol>\n"
            ],
            "text/markdown": "1. 'PassengerId'\n2. 'Survived'\n3. 'Pclass'\n4. 'Name'\n5. 'Sex'\n6. 'Age'\n7. 'SibSp'\n8. 'Parch'\n9. 'Ticket'\n10. 'Fare'\n11. 'Cabin'\n12. 'Embarked'\n\n\n",
            "text/latex": "\\begin{enumerate*}\n\\item 'PassengerId'\n\\item 'Survived'\n\\item 'Pclass'\n\\item 'Name'\n\\item 'Sex'\n\\item 'Age'\n\\item 'SibSp'\n\\item 'Parch'\n\\item 'Ticket'\n\\item 'Fare'\n\\item 'Cabin'\n\\item 'Embarked'\n\\end{enumerate*}\n",
            "text/plain": [
              " [1] \"PassengerId\" \"Survived\"    \"Pclass\"      \"Name\"        \"Sex\"        \n",
              " [6] \"Age\"         \"SibSp\"       \"Parch\"       \"Ticket\"      \"Fare\"       \n",
              "[11] \"Cabin\"       \"Embarked\"   "
            ]
          },
          "metadata": {}
        }
      ],
      "source": [
        "colnames(data)\n"
      ]
    },
    {
      "cell_type": "code",
      "execution_count": null,
      "metadata": {
        "id": "INRRBl5oPFuz"
      },
      "outputs": [],
      "source": [
        "numeric_cols <- c(\"Pclass\", \"Age\", \"Fare\", \"Sex\", \"SibSp\", \"Parch\", \"FamilySize\")\n"
      ]
    },
    {
      "cell_type": "code",
      "execution_count": null,
      "metadata": {
        "colab": {
          "base_uri": "https://localhost:8080/",
          "height": 34
        },
        "id": "bVodStVqPIU9",
        "outputId": "eb7e577b-a43a-4a34-ddd6-cf389e319e07"
      },
      "outputs": [
        {
          "output_type": "display_data",
          "data": {
            "text/html": [
              "'FamilySize'"
            ],
            "text/markdown": "'FamilySize'",
            "text/latex": "'FamilySize'",
            "text/plain": [
              "[1] \"FamilySize\""
            ]
          },
          "metadata": {}
        }
      ],
      "source": [
        "setdiff(numeric_cols, colnames(data))\n"
      ]
    },
    {
      "cell_type": "code",
      "execution_count": null,
      "metadata": {
        "id": "vQCqnS8APKSP"
      },
      "outputs": [],
      "source": [
        "data$FamilySize <- data$SibSp + data$Parch + 1\n"
      ]
    },
    {
      "cell_type": "code",
      "execution_count": null,
      "metadata": {
        "id": "kwSAQIPcPMKq"
      },
      "outputs": [],
      "source": [
        "data$Sex <- ifelse(data$Sex == \"male\", 1, 0)\n"
      ]
    },
    {
      "cell_type": "code",
      "execution_count": null,
      "metadata": {
        "colab": {
          "base_uri": "https://localhost:8080/"
        },
        "id": "PWKGd9a9PN7n",
        "outputId": "8f409a6b-3013-4d72-d51e-5ea8ec2752fa"
      },
      "outputs": [
        {
          "output_type": "stream",
          "name": "stderr",
          "text": [
            "Warning message in min(x, na.rm = TRUE):\n",
            "“no non-missing arguments to min; returning Inf”\n",
            "Warning message in max(x, na.rm = TRUE):\n",
            "“no non-missing arguments to max; returning -Inf”\n",
            "Warning message in min(x, na.rm = TRUE):\n",
            "“no non-missing arguments to min; returning Inf”\n",
            "Warning message in min(x, na.rm = TRUE):\n",
            "“no non-missing arguments to min; returning Inf”\n",
            "Warning message in max(x, na.rm = TRUE):\n",
            "“no non-missing arguments to max; returning -Inf”\n",
            "Warning message in min(x, na.rm = TRUE):\n",
            "“no non-missing arguments to min; returning Inf”\n",
            "Warning message in min(x, na.rm = TRUE):\n",
            "“no non-missing arguments to min; returning Inf”\n",
            "Warning message in max(x, na.rm = TRUE):\n",
            "“no non-missing arguments to max; returning -Inf”\n",
            "Warning message in min(x, na.rm = TRUE):\n",
            "“no non-missing arguments to min; returning Inf”\n",
            "Warning message in min(x, na.rm = TRUE):\n",
            "“no non-missing arguments to min; returning Inf”\n",
            "Warning message in max(x, na.rm = TRUE):\n",
            "“no non-missing arguments to max; returning -Inf”\n",
            "Warning message in min(x, na.rm = TRUE):\n",
            "“no non-missing arguments to min; returning Inf”\n",
            "Warning message in min(x, na.rm = TRUE):\n",
            "“no non-missing arguments to min; returning Inf”\n",
            "Warning message in max(x, na.rm = TRUE):\n",
            "“no non-missing arguments to max; returning -Inf”\n",
            "Warning message in min(x, na.rm = TRUE):\n",
            "“no non-missing arguments to min; returning Inf”\n",
            "Warning message in min(x, na.rm = TRUE):\n",
            "“no non-missing arguments to min; returning Inf”\n",
            "Warning message in max(x, na.rm = TRUE):\n",
            "“no non-missing arguments to max; returning -Inf”\n",
            "Warning message in min(x, na.rm = TRUE):\n",
            "“no non-missing arguments to min; returning Inf”\n",
            "Warning message in min(x, na.rm = TRUE):\n",
            "“no non-missing arguments to min; returning Inf”\n",
            "Warning message in max(x, na.rm = TRUE):\n",
            "“no non-missing arguments to max; returning -Inf”\n",
            "Warning message in min(x, na.rm = TRUE):\n",
            "“no non-missing arguments to min; returning Inf”\n"
          ]
        }
      ],
      "source": [
        "# Normalize only valid columns\n",
        "normalize <- function(x) (x - min(x, na.rm = TRUE)) / (max(x, na.rm = TRUE) - min(x, na.rm = TRUE))\n",
        "data[numeric_cols] <- lapply(data[numeric_cols], normalize)\n"
      ]
    },
    {
      "cell_type": "code",
      "execution_count": null,
      "metadata": {
        "colab": {
          "base_uri": "https://localhost:8080/",
          "height": 34
        },
        "id": "-q8cClMePUJj",
        "outputId": "b314f513-7758-49a9-b457-48dc1a3c1bf7"
      },
      "outputs": [
        {
          "output_type": "display_data",
          "data": {
            "text/html": [
              "<style>\n",
              ".dl-inline {width: auto; margin:0; padding: 0}\n",
              ".dl-inline>dt, .dl-inline>dd {float: none; width: auto; display: inline-block}\n",
              ".dl-inline>dt::after {content: \":\\0020\"; padding-right: .5ex}\n",
              ".dl-inline>dt:not(:first-of-type) {padding-left: .5ex}\n",
              "</style><dl class=dl-inline><dt>Pclass</dt><dd>0</dd><dt>Age</dt><dd>0</dd><dt>Fare</dt><dd>0</dd><dt>Sex</dt><dd>0</dd><dt>SibSp</dt><dd>0</dd><dt>Parch</dt><dd>0</dd><dt>FamilySize</dt><dd>0</dd></dl>\n"
            ],
            "text/markdown": "Pclass\n:   0Age\n:   0Fare\n:   0Sex\n:   0SibSp\n:   0Parch\n:   0FamilySize\n:   0\n\n",
            "text/latex": "\\begin{description*}\n\\item[Pclass] 0\n\\item[Age] 0\n\\item[Fare] 0\n\\item[Sex] 0\n\\item[SibSp] 0\n\\item[Parch] 0\n\\item[FamilySize] 0\n\\end{description*}\n",
            "text/plain": [
              "    Pclass        Age       Fare        Sex      SibSp      Parch FamilySize \n",
              "         0          0          0          0          0          0          0 "
            ]
          },
          "metadata": {}
        }
      ],
      "source": [
        "colSums(is.na(data[numeric_cols]))  # Count NA values per column\n"
      ]
    },
    {
      "cell_type": "markdown",
      "metadata": {
        "id": "AfrcQc69OyBh"
      },
      "source": []
    },
    {
      "cell_type": "code",
      "execution_count": null,
      "metadata": {
        "id": "WROMzlR9PbOX"
      },
      "outputs": [],
      "source": [
        "data <- data[, !(colnames(data) %in% c(\"Age\"))]  # Example: Drop \"Age\"\n"
      ]
    },
    {
      "cell_type": "code",
      "execution_count": null,
      "metadata": {
        "colab": {
          "base_uri": "https://localhost:8080/"
        },
        "id": "fdZ29VGMPcsr",
        "outputId": "eb8d6d84-9a65-4dce-b096-aec9207d9d12"
      },
      "outputs": [
        {
          "output_type": "stream",
          "name": "stderr",
          "text": [
            "Warning message in mean.default(data$Age, na.rm = TRUE):\n",
            "“argument is not numeric or logical: returning NA”\n"
          ]
        }
      ],
      "source": [
        "data$Age[is.na(data$Age)] <- mean(data$Age, na.rm = TRUE)\n"
      ]
    },
    {
      "cell_type": "code",
      "execution_count": null,
      "metadata": {
        "colab": {
          "base_uri": "https://localhost:8080/"
        },
        "id": "bL537OGGPlAc",
        "outputId": "f131dc75-d76b-4fb8-e027-f42acde5c21a"
      },
      "outputs": [
        {
          "output_type": "stream",
          "name": "stdout",
          "text": [
            " num(0) \n"
          ]
        }
      ],
      "source": [
        "str(data$Age)\n"
      ]
    },
    {
      "cell_type": "code",
      "execution_count": null,
      "metadata": {
        "colab": {
          "base_uri": "https://localhost:8080/",
          "height": 17
        },
        "id": "NdXV-fhaPr3K",
        "outputId": "f988dc10-37c2-494d-f69f-6587b59e7dde"
      },
      "outputs": [
        {
          "output_type": "display_data",
          "data": {
            "text/html": [],
            "text/markdown": "",
            "text/latex": "",
            "text/plain": [
              "numeric(0)"
            ]
          },
          "metadata": {}
        }
      ],
      "source": [
        "head(data$Age)\n"
      ]
    },
    {
      "cell_type": "code",
      "execution_count": null,
      "metadata": {
        "colab": {
          "base_uri": "https://localhost:8080/",
          "height": 34
        },
        "id": "FMZyo44yPu0r",
        "outputId": "a0e7920c-006f-4958-fd9e-3d921f914eb6"
      },
      "outputs": [
        {
          "output_type": "display_data",
          "data": {
            "text/html": [
              "0"
            ],
            "text/markdown": "0",
            "text/latex": "0",
            "text/plain": [
              "[1] 0"
            ]
          },
          "metadata": {}
        }
      ],
      "source": [
        "sum(is.na(data$Age))\n"
      ]
    },
    {
      "cell_type": "code",
      "execution_count": null,
      "metadata": {
        "colab": {
          "base_uri": "https://localhost:8080/",
          "height": 52
        },
        "id": "BKdb0uMBQDqt",
        "outputId": "6974db41-06a7-4e5c-f2b0-6b14b4e1f027"
      },
      "outputs": [
        {
          "output_type": "display_data",
          "data": {
            "text/plain": [
              "   Min. 1st Qu.  Median    Mean 3rd Qu.    Max.    NA's \n",
              "   0.42   20.12   28.00   29.70   38.00   80.00     177 "
            ]
          },
          "metadata": {}
        }
      ],
      "source": [
        "# Load the titanic package\n",
        "library(titanic)\n",
        "\n",
        "# Reload the original titanic_train dataset\n",
        "data <- titanic::titanic_train\n",
        "\n",
        "# Verify if Age is restored\n",
        "summary(data$Age)\n"
      ]
    },
    {
      "cell_type": "code",
      "execution_count": null,
      "metadata": {
        "colab": {
          "base_uri": "https://localhost:8080/",
          "height": 34
        },
        "id": "AukvopG9QJ28",
        "outputId": "dd6f0670-75ae-4c23-e4e1-5391b9d8e321"
      },
      "outputs": [
        {
          "output_type": "display_data",
          "data": {
            "text/html": [
              "<style>\n",
              ".list-inline {list-style: none; margin:0; padding: 0}\n",
              ".list-inline>li {display: inline-block}\n",
              ".list-inline>li:not(:last-child)::after {content: \"\\00b7\"; padding: 0 .5ex}\n",
              "</style>\n",
              "<ol class=list-inline><li>'PassengerId'</li><li>'Survived'</li><li>'Pclass'</li><li>'Name'</li><li>'Sex'</li><li>'Age'</li><li>'SibSp'</li><li>'Parch'</li><li>'Ticket'</li><li>'Fare'</li><li>'Cabin'</li><li>'Embarked'</li></ol>\n"
            ],
            "text/markdown": "1. 'PassengerId'\n2. 'Survived'\n3. 'Pclass'\n4. 'Name'\n5. 'Sex'\n6. 'Age'\n7. 'SibSp'\n8. 'Parch'\n9. 'Ticket'\n10. 'Fare'\n11. 'Cabin'\n12. 'Embarked'\n\n\n",
            "text/latex": "\\begin{enumerate*}\n\\item 'PassengerId'\n\\item 'Survived'\n\\item 'Pclass'\n\\item 'Name'\n\\item 'Sex'\n\\item 'Age'\n\\item 'SibSp'\n\\item 'Parch'\n\\item 'Ticket'\n\\item 'Fare'\n\\item 'Cabin'\n\\item 'Embarked'\n\\end{enumerate*}\n",
            "text/plain": [
              " [1] \"PassengerId\" \"Survived\"    \"Pclass\"      \"Name\"        \"Sex\"        \n",
              " [6] \"Age\"         \"SibSp\"       \"Parch\"       \"Ticket\"      \"Fare\"       \n",
              "[11] \"Cabin\"       \"Embarked\"   "
            ]
          },
          "metadata": {}
        }
      ],
      "source": [
        "colnames(data)\n"
      ]
    },
    {
      "cell_type": "code",
      "execution_count": null,
      "metadata": {
        "id": "o5WqqanaQNR6"
      },
      "outputs": [],
      "source": [
        "data$Age[is.na(data$Age)] <- mean(data$Age, na.rm = TRUE)\n"
      ]
    },
    {
      "cell_type": "code",
      "execution_count": null,
      "metadata": {
        "colab": {
          "base_uri": "https://localhost:8080/",
          "height": 34
        },
        "id": "B8x-Qs60QOxv",
        "outputId": "93f74fa6-c16c-4792-e1b0-5f01701ee84a"
      },
      "outputs": [
        {
          "output_type": "display_data",
          "data": {
            "text/html": [
              "0"
            ],
            "text/markdown": "0",
            "text/latex": "0",
            "text/plain": [
              "[1] 0"
            ]
          },
          "metadata": {}
        }
      ],
      "source": [
        "sum(is.na(data$Age))  # Should return 0\n"
      ]
    },
    {
      "cell_type": "code",
      "execution_count": null,
      "metadata": {
        "id": "pbKIkFg7QRwL"
      },
      "outputs": [],
      "source": [
        "data$Age[is.na(data$Age)] <- median(data$Age, na.rm = TRUE)\n"
      ]
    },
    {
      "cell_type": "code",
      "execution_count": null,
      "metadata": {
        "id": "7_FwwETtQSmP"
      },
      "outputs": [],
      "source": [
        "data <- na.omit(data)\n"
      ]
    },
    {
      "cell_type": "code",
      "execution_count": null,
      "metadata": {
        "colab": {
          "base_uri": "https://localhost:8080/",
          "height": 34
        },
        "id": "dmmj_93_QYpM",
        "outputId": "7094cb54-248c-4de7-9ea3-71edb52978d3"
      },
      "outputs": [
        {
          "output_type": "display_data",
          "data": {
            "text/html": [
              "0"
            ],
            "text/markdown": "0",
            "text/latex": "0",
            "text/plain": [
              "[1] 0"
            ]
          },
          "metadata": {}
        }
      ],
      "source": [
        "# Fill missing Age values with the mean\n",
        "data$Age[is.na(data$Age)] <- mean(data$Age, na.rm = TRUE)\n",
        "\n",
        "# Check if any missing values remain\n",
        "sum(is.na(data$Age))\n"
      ]
    },
    {
      "cell_type": "code",
      "execution_count": null,
      "metadata": {
        "colab": {
          "base_uri": "https://localhost:8080/",
          "height": 34
        },
        "id": "3jKjv0yOQgev",
        "outputId": "667f422d-2a48-4328-877e-d18f8057ff65"
      },
      "outputs": [
        {
          "output_type": "display_data",
          "data": {
            "text/html": [
              "0"
            ],
            "text/markdown": "0",
            "text/latex": "0",
            "text/plain": [
              "[1] 0"
            ]
          },
          "metadata": {}
        }
      ],
      "source": [
        "# Recalculate FamilySize (SibSp + Parch + 1)\n",
        "data$FamilySize <- data$SibSp + data$Parch + 1\n",
        "\n",
        "# Check for any missing values\n",
        "sum(is.na(data$FamilySize))\n"
      ]
    },
    {
      "cell_type": "code",
      "execution_count": null,
      "metadata": {
        "colab": {
          "base_uri": "https://localhost:8080/",
          "height": 297
        },
        "id": "yiIrO_MQQnjO",
        "outputId": "dd4f58cf-0b85-4ca9-bf65-8db206e8176e"
      },
      "outputs": [
        {
          "output_type": "error",
          "ename": "ERROR",
          "evalue": "Error in `[.data.frame`(titanic_train, predictors): undefined columns selected\n",
          "traceback": [
            "Error in `[.data.frame`(titanic_train, predictors): undefined columns selected\nTraceback:\n",
            "1. titanic_train[predictors]",
            "2. `[.data.frame`(titanic_train, predictors)",
            "3. stop(\"undefined columns selected\")",
            "4. .handleSimpleError(function (cnd) \n . {\n .     watcher$capture_plot_and_output()\n .     cnd <- sanitize_call(cnd)\n .     watcher$push(cnd)\n .     switch(on_error, continue = invokeRestart(\"eval_continue\"), \n .         stop = invokeRestart(\"eval_stop\"), error = NULL)\n . }, \"undefined columns selected\", base::quote(`[.data.frame`(titanic_train, \n .     predictors)))"
          ]
        }
      ],
      "source": [
        "# Select the columns to normalize\n",
        "predictors <- c(\"Pclass\", \"Age\", \"Fare\", \"Sex\", \"SibSp\", \"Parch\", \"FamilySize\")\n",
        "\n",
        "# Normalize function\n",
        "normalize <- function(x) {\n",
        "  return((x - min(x)) / (max(x) - min(x)))\n",
        "}\n",
        "\n",
        "# Apply normalization\n",
        "titanic_train[predictors] <- lapply(titanic_train[predictors], normalize)\n",
        "\n",
        "# Check if normalization worked\n",
        "summary(titanic_train[predictors])\n"
      ]
    },
    {
      "cell_type": "code",
      "execution_count": null,
      "metadata": {
        "colab": {
          "base_uri": "https://localhost:8080/",
          "height": 260
        },
        "id": "P6DY9JmARB3Y",
        "outputId": "ca2eb9e1-b183-4e26-f4fa-37112b041213"
      },
      "outputs": [
        {
          "output_type": "display_data",
          "data": {
            "text/plain": [
              "     Pclass            Age              Fare              Sex        \n",
              " Min.   :0.0000   Min.   :0.0000   Min.   :0.00000   Min.   :0.0000  \n",
              " 1st Qu.:0.5000   1st Qu.:0.2712   1st Qu.:0.01544   1st Qu.:0.0000  \n",
              " Median :1.0000   Median :0.3679   Median :0.02821   Median :1.0000  \n",
              " Mean   :0.6543   Mean   :0.3679   Mean   :0.06286   Mean   :0.6476  \n",
              " 3rd Qu.:1.0000   3rd Qu.:0.4345   3rd Qu.:0.06051   3rd Qu.:1.0000  \n",
              " Max.   :1.0000   Max.   :1.0000   Max.   :1.00000   Max.   :1.0000  \n",
              "     SibSp             Parch          FamilySize     \n",
              " Min.   :0.00000   Min.   :0.0000   Min.   :0.00000  \n",
              " 1st Qu.:0.00000   1st Qu.:0.0000   1st Qu.:0.00000  \n",
              " Median :0.00000   Median :0.0000   Median :0.00000  \n",
              " Mean   :0.06538   Mean   :0.0636   Mean   :0.09046  \n",
              " 3rd Qu.:0.12500   3rd Qu.:0.0000   3rd Qu.:0.10000  \n",
              " Max.   :1.00000   Max.   :1.0000   Max.   :1.00000  "
            ]
          },
          "metadata": {}
        }
      ],
      "source": [
        "# Ensure 'Sex' is treated as numeric before normalization\n",
        "data$Sex <- ifelse(data$Sex == \"male\", 1, 0)\n",
        "\n",
        "# Ensure 'Pclass' is treated as numeric\n",
        "data$Pclass <- as.numeric(data$Pclass)\n",
        "\n",
        "# Select the columns to normalize\n",
        "predictors <- c(\"Pclass\", \"Age\", \"Fare\", \"Sex\", \"SibSp\", \"Parch\", \"FamilySize\")\n",
        "\n",
        "# Normalize function\n",
        "normalize <- function(x) {\n",
        "  return((x - min(x)) / (max(x) - min(x)))\n",
        "}\n",
        "\n",
        "# Apply normalization\n",
        "data[predictors] <- lapply(data[predictors], normalize)\n",
        "\n",
        "# Verify normalization\n",
        "summary(data[predictors])"
      ]
    },
    {
      "cell_type": "code",
      "execution_count": null,
      "metadata": {
        "colab": {
          "base_uri": "https://localhost:8080/"
        },
        "id": "SQLMfXB4RaWb",
        "outputId": "1708e030-6a2e-473f-d74b-42cf491181f6"
      },
      "outputs": [
        {
          "output_type": "stream",
          "name": "stdout",
          "text": [
            "Training set size:  713 \n",
            "Test set size:  178 \n"
          ]
        }
      ],
      "source": [
        "# Load required package\n",
        "library(caTools)\n",
        "\n",
        "# Set seed for reproducibility\n",
        "set.seed(123)\n",
        "\n",
        "# Split the data (80% train, 20% test)\n",
        "split <- sample.split(data$Survived, SplitRatio = 0.8)\n",
        "train_data <- subset(data, split == TRUE)\n",
        "test_data <- subset(data, split == FALSE)\n",
        "\n",
        "# Check dimensions\n",
        "cat(\"Training set size: \", nrow(train_data), \"\\n\")\n",
        "cat(\"Test set size: \", nrow(test_data), \"\\n\")\n"
      ]
    },
    {
      "cell_type": "code",
      "execution_count": null,
      "metadata": {
        "colab": {
          "base_uri": "https://localhost:8080/",
          "height": 52
        },
        "id": "9mFOhc47Rbiz",
        "outputId": "49e642e4-e472-441e-f1c6-aafde12384df"
      },
      "outputs": [
        {
          "output_type": "display_data",
          "data": {
            "text/html": [
              "<style>\n",
              ".list-inline {list-style: none; margin:0; padding: 0}\n",
              ".list-inline>li {display: inline-block}\n",
              ".list-inline>li:not(:last-child)::after {content: \"\\00b7\"; padding: 0 .5ex}\n",
              "</style>\n",
              "<ol class=list-inline><li>0</li><li>0</li><li>1</li><li>1</li><li>0</li><li>1</li></ol>\n",
              "\n",
              "<details>\n",
              "\t<summary style=display:list-item;cursor:pointer>\n",
              "\t\t<strong>Levels</strong>:\n",
              "\t</summary>\n",
              "\t<style>\n",
              "\t.list-inline {list-style: none; margin:0; padding: 0}\n",
              "\t.list-inline>li {display: inline-block}\n",
              "\t.list-inline>li:not(:last-child)::after {content: \"\\00b7\"; padding: 0 .5ex}\n",
              "\t</style>\n",
              "\t<ol class=list-inline><li>'0'</li><li>'1'</li></ol>\n",
              "</details>"
            ],
            "text/markdown": "1. 0\n2. 0\n3. 1\n4. 1\n5. 0\n6. 1\n\n\n\n**Levels**: 1. '0'\n2. '1'\n\n\n",
            "text/latex": "\\begin{enumerate*}\n\\item 0\n\\item 0\n\\item 1\n\\item 1\n\\item 0\n\\item 1\n\\end{enumerate*}\n\n\\emph{Levels}: \\begin{enumerate*}\n\\item '0'\n\\item '1'\n\\end{enumerate*}\n",
            "text/plain": [
              "[1] 0 0 1 1 0 1\n",
              "Levels: 0 1"
            ]
          },
          "metadata": {}
        }
      ],
      "source": [
        "# Load KNN package\n",
        "library(class)\n",
        "\n",
        "# Define predictors and target\n",
        "predictors <- c(\"Pclass\", \"Age\", \"Fare\", \"Sex\", \"SibSp\", \"Parch\", \"FamilySize\")\n",
        "target <- \"Survived\"\n",
        "\n",
        "# Apply KNN (k = 5 as an example)\n",
        "k <- 5\n",
        "knn_pred <- knn(train = train_data[predictors],\n",
        "                test = test_data[predictors],\n",
        "                cl = train_data[[target]],\n",
        "                k = k)\n",
        "\n",
        "# Check predictions\n",
        "head(knn_pred)\n"
      ]
    },
    {
      "cell_type": "code",
      "execution_count": null,
      "metadata": {
        "colab": {
          "base_uri": "https://localhost:8080/"
        },
        "id": "n5CtOULhRfjG",
        "outputId": "9ce112bd-d68d-440e-c8a8-6c6ca4a730d1"
      },
      "outputs": [
        {
          "output_type": "stream",
          "name": "stdout",
          "text": [
            "Confusion Matrix and Statistics\n",
            "\n",
            "          Reference\n",
            "Prediction  0  1\n",
            "         0 94 23\n",
            "         1 16 45\n",
            "                                          \n",
            "               Accuracy : 0.7809          \n",
            "                 95% CI : (0.7129, 0.8393)\n",
            "    No Information Rate : 0.618           \n",
            "    P-Value [Acc > NIR] : 2.515e-06       \n",
            "                                          \n",
            "                  Kappa : 0.5267          \n",
            "                                          \n",
            " Mcnemar's Test P-Value : 0.3367          \n",
            "                                          \n",
            "            Sensitivity : 0.8545          \n",
            "            Specificity : 0.6618          \n",
            "         Pos Pred Value : 0.8034          \n",
            "         Neg Pred Value : 0.7377          \n",
            "             Prevalence : 0.6180          \n",
            "         Detection Rate : 0.5281          \n",
            "   Detection Prevalence : 0.6573          \n",
            "      Balanced Accuracy : 0.7582          \n",
            "                                          \n",
            "       'Positive' Class : 0               \n",
            "                                          \n"
          ]
        }
      ],
      "source": [
        "# Load the caret package for confusion matrix\n",
        "library(caret)\n",
        "\n",
        "# Create confusion matrix\n",
        "confusion_matrix <- confusionMatrix(knn_pred, as.factor(test_data$Survived))\n",
        "print(confusion_matrix)\n"
      ]
    },
    {
      "cell_type": "code",
      "execution_count": null,
      "metadata": {
        "colab": {
          "base_uri": "https://localhost:8080/",
          "height": 454
        },
        "id": "Lj9ZqxndRpxQ",
        "outputId": "ce4ce0f6-0ce5-4e37-ef91-1e3d1b189266"
      },
      "outputs": [
        {
          "output_type": "stream",
          "name": "stdout",
          "text": [
            "Best k:  3  with Accuracy:  0.8202247 \n"
          ]
        },
        {
          "output_type": "display_data",
          "data": {
            "text/plain": [
              "Plot with title “K vs Accuracy”"
            ],
            "image/png": "[encoded data removed]"
          },
          "metadata": {
            "image/png": {
              "width": 420,
              "height": 420
            }
          }
        }
      ],
      "source": [
        "# Try multiple k values and find the best one\n",
        "accuracies <- c()\n",
        "\n",
        "for (k in 1:20) {\n",
        "  knn_pred <- knn(train = train_data[predictors],\n",
        "                  test = test_data[predictors],\n",
        "                  cl = train_data[[target]],\n",
        "                  k = k)\n",
        "\n",
        "  acc <- sum(knn_pred == test_data[[target]]) / length(knn_pred)\n",
        "  accuracies <- c(accuracies, acc)\n",
        "}\n",
        "\n",
        "# Find the best k\n",
        "best_k <- which.max(accuracies)\n",
        "cat(\"Best k: \", best_k, \" with Accuracy: \", max(accuracies), \"\\n\")\n",
        "\n",
        "# Plot k vs. accuracy\n",
        "plot(1:20, accuracies, type = \"b\", col = \"blue\",\n",
        "     xlab = \"k Value\", ylab = \"Accuracy\", main = \"K vs Accuracy\")\n"
      ]
    },
    {
      "cell_type": "code",
      "execution_count": null,
      "metadata": {
        "colab": {
          "base_uri": "https://localhost:8080/",
          "height": 454
        },
        "id": "KiamZOVRR0tw",
        "outputId": "18add4b1-8888-4578-9b0a-6e6826b993d3"
      },
      "outputs": [
        {
          "output_type": "stream",
          "name": "stdout",
          "text": [
            "Best k:  3  with Accuracy:  0.8202247 \n"
          ]
        },
        {
          "output_type": "display_data",
          "data": {
            "text/plain": [
              "Plot with title “K vs Accuracy”"
            ],
            "image/png": "[encoded data removed]"
          },
          "metadata": {
            "image/png": {
              "width": 420,
              "height": 420
            }
          }
        }
      ],
      "source": [
        "# Explore a wider range of k values\n",
        "accuracies <- c()\n",
        "\n",
        "for (k in 1:50) {  # Increased upper limit\n",
        "  knn_pred <- knn(train = train_data[predictors],\n",
        "                  test = test_data[predictors],\n",
        "                  cl = train_data[[target]],\n",
        "                  k = k)\n",
        "\n",
        "  acc <- sum(knn_pred == test_data[[target]]) / length(knn_pred)\n",
        "  accuracies <- c(accuracies, acc)\n",
        "}\n",
        "\n",
        "best_k <- which.max(accuracies)\n",
        "cat(\"Best k: \", best_k, \" with Accuracy: \", max(accuracies), \"\\n\")\n",
        "\n",
        "# Visualize k vs. accuracy\n",
        "plot(1:50, accuracies, type = \"b\", col = \"purple\",\n",
        "     xlab = \"k Value\", ylab = \"Accuracy\", main = \"K vs Accuracy\")\n"
      ]
    },
    {
      "cell_type": "code",
      "execution_count": null,
      "metadata": {
        "colab": {
          "base_uri": "https://localhost:8080/"
        },
        "id": "35W98vMQS4xr",
        "outputId": "c8d19b25-baaf-4f2b-919d-2bb13d6178a2"
      },
      "outputs": [
        {
          "output_type": "stream",
          "name": "stderr",
          "text": [
            "Loading required package: kknn\n",
            "\n",
            "Warning message in library(package, lib.loc = lib.loc, character.only = TRUE, logical.return = TRUE, :\n",
            "“there is no package called ‘kknn’”\n",
            "Installing package into ‘/usr/local/lib/R/site-library’\n",
            "(as ‘lib’ is unspecified)\n",
            "\n",
            "also installing the dependency ‘igraph’\n",
            "\n",
            "\n",
            "\n",
            "Attaching package: ‘kknn’\n",
            "\n",
            "\n",
            "The following object is masked from ‘package:caret’:\n",
            "\n",
            "    contr.dummy\n",
            "\n",
            "\n"
          ]
        }
      ],
      "source": [
        "if (!require(kknn)) {\n",
        "  install.packages(\"kknn\")\n",
        "}\n",
        "library(kknn)\n"
      ]
    },
    {
      "cell_type": "code",
      "execution_count": null,
      "metadata": {
        "colab": {
          "base_uri": "https://localhost:8080/",
          "height": 538
        },
        "id": "R20uXRBtg8ve",
        "outputId": "43283dd2-1654-46b8-9404-691b73c4355c"
      },
      "outputs": [
        {
          "output_type": "stream",
          "name": "stderr",
          "text": [
            "Installing package into ‘/usr/local/lib/R/site-library’\n",
            "(as ‘lib’ is unspecified)\n",
            "\n"
          ]
        },
        {
          "output_type": "display_data",
          "data": {
            "text/plain": [
              "Confusion Matrix and Statistics\n",
              "\n",
              "          Reference\n",
              "Prediction  0  1\n",
              "         0 98 20\n",
              "         1 12 48\n",
              "                                          \n",
              "               Accuracy : 0.8202          \n",
              "                 95% CI : (0.7558, 0.8737)\n",
              "    No Information Rate : 0.618           \n",
              "    P-Value [Acc > NIR] : 3.958e-09       \n",
              "                                          \n",
              "                  Kappa : 0.6105          \n",
              "                                          \n",
              " Mcnemar's Test P-Value : 0.2159          \n",
              "                                          \n",
              "            Sensitivity : 0.8909          \n",
              "            Specificity : 0.7059          \n",
              "         Pos Pred Value : 0.8305          \n",
              "         Neg Pred Value : 0.8000          \n",
              "             Prevalence : 0.6180          \n",
              "         Detection Rate : 0.5506          \n",
              "   Detection Prevalence : 0.6629          \n",
              "      Balanced Accuracy : 0.7984          \n",
              "                                          \n",
              "       'Positive' Class : 0               \n",
              "                                          "
            ]
          },
          "metadata": {}
        }
      ],
      "source": [
        "install.packages(\"caret\")\n",
        "library(class)\n",
        "library(caret)\n",
        "\n",
        "knn_pred_best <- knn(train = train_data[predictors],\n",
        "                     test = test_data[predictors],\n",
        "                     cl = train_data[[target]],\n",
        "                     k = best_k)\n",
        "\n",
        "confusionMatrix(knn_pred_best, as.factor(test_data[[target]]))\n",
        "\n"
      ]
    },
    {
      "cell_type": "code",
      "source": [
        "# Install the caret package if it's not already installed\n",
        "if(!require(caret)) install.packages(\"caret\")\n",
        "\n",
        "# Load the caret package\n",
        "library(caret)"
      ],
      "metadata": {
        "colab": {
          "base_uri": "https://localhost:8080/"
        },
        "id": "CDpzA9lPO7oC",
        "outputId": "8bbeeb0f-da17-4d85-d982-612781cfecb9"
      },
      "execution_count": null,
      "outputs": [
        {
          "output_type": "stream",
          "name": "stderr",
          "text": [
            "Loading required package: caret\n",
            "\n",
            "Warning message in library(package, lib.loc = lib.loc, character.only = TRUE, logical.return = TRUE, :\n",
            "“there is no package called ‘caret’”\n",
            "Installing package into ‘/usr/local/lib/R/site-library’\n",
            "(as ‘lib’ is unspecified)\n",
            "\n",
            "also installing the dependencies ‘listenv’, ‘parallelly’, ‘future’, ‘globals’, ‘shape’, ‘future.apply’, ‘numDeriv’, ‘progressr’, ‘SQUAREM’, ‘diagram’, ‘lava’, ‘prodlim’, ‘proxy’, ‘iterators’, ‘clock’, ‘gower’, ‘hardhat’, ‘ipred’, ‘sparsevctrs’, ‘timeDate’, ‘e1071’, ‘foreach’, ‘ModelMetrics’, ‘plyr’, ‘pROC’, ‘recipes’, ‘reshape2’\n",
            "\n",
            "\n",
            "Loading required package: ggplot2\n",
            "\n",
            "Loading required package: lattice\n",
            "\n"
          ]
        }
      ]
    },
    {
      "cell_type": "code",
      "source": [
        "library(class)\n",
        "library(caret)\n",
        "\n",
        "knn_pred_best <- knn(train = train_data[predictors],\n",
        "                     test = test_data[predictors],\n",
        "                     cl = train_data[[target]],\n",
        "                     k = best_k)\n",
        "\n",
        "confusionMatrix(knn_pred_best, as.factor(test_data[[target]]))\n"
      ],
      "metadata": {
        "colab": {
          "base_uri": "https://localhost:8080/",
          "height": 485
        },
        "id": "M15z5xUKUXBd",
        "outputId": "8e22c76d-ceaa-4945-d5fe-3e625ba10bf2"
      },
      "execution_count": null,
      "outputs": [
        {
          "output_type": "display_data",
          "data": {
            "text/plain": [
              "Confusion Matrix and Statistics\n",
              "\n",
              "          Reference\n",
              "Prediction  0  1\n",
              "         0 98 20\n",
              "         1 12 48\n",
              "                                          \n",
              "               Accuracy : 0.8202          \n",
              "                 95% CI : (0.7558, 0.8737)\n",
              "    No Information Rate : 0.618           \n",
              "    P-Value [Acc > NIR] : 3.958e-09       \n",
              "                                          \n",
              "                  Kappa : 0.6105          \n",
              "                                          \n",
              " Mcnemar's Test P-Value : 0.2159          \n",
              "                                          \n",
              "            Sensitivity : 0.8909          \n",
              "            Specificity : 0.7059          \n",
              "         Pos Pred Value : 0.8305          \n",
              "         Neg Pred Value : 0.8000          \n",
              "             Prevalence : 0.6180          \n",
              "         Detection Rate : 0.5506          \n",
              "   Detection Prevalence : 0.6629          \n",
              "      Balanced Accuracy : 0.7984          \n",
              "                                          \n",
              "       'Positive' Class : 0               \n",
              "                                          "
            ]
          },
          "metadata": {}
        }
      ]
    },
    {
      "cell_type": "code",
      "source": [
        "# Step 1: Create the custom input\n",
        "new_passenger <- data.frame(\n",
        "  Pclass = 3,\n",
        "  Age = 25,\n",
        "  Fare = 7.25,\n",
        "  Sex = 1,         # male = 1\n",
        "  SibSp = 0,\n",
        "  Parch = 0,\n",
        "  FamilySize = 1\n",
        ")\n",
        "\n",
        "# Step 2: Normalize using the same logic as before\n",
        "normalize <- function(x, min_val, max_val) {\n",
        "  return((x - min_val) / (max_val - min_val))\n",
        "}\n",
        "\n",
        "# Normalize the new passenger using min/max from train_data\n",
        "for (feature in names(new_passenger)) {\n",
        "  min_val <- min(train_data[[feature]])\n",
        "  max_val <- max(train_data[[feature]])\n",
        "  new_passenger[[feature]] <- normalize(new_passenger[[feature]], min_val, max_val)\n",
        "}\n",
        "\n",
        "# Step 3: Predict using your trained KNN model\n",
        "library(class)\n",
        "prediction <- knn(train = train_data[predictors],\n",
        "                  test = new_passenger,\n",
        "                  cl = train_data[[target]],\n",
        "                  k = best_k)\n",
        "\n",
        "cat(\"Predicted Survival (1 = Survived, 0 = Not Survived):\", prediction, \"\\n\")\n"
      ],
      "metadata": {
        "id": "FKpMc1frh3KI",
        "outputId": "d4187a9a-b1fd-48b0-fbb1-c1ca1f42e67f",
        "colab": {
          "base_uri": "https://localhost:8080/"
        }
      },
      "execution_count": null,
      "outputs": [
        {
          "output_type": "stream",
          "name": "stdout",
          "text": [
            "Predicted Survival (1 = Survived, 0 = Not Survived): 1 \n"
          ]
        }
      ]
    }
  ],
  "metadata": {
    "colab": {
      "provenance": []
    },
    "kernelspec": {
      "display_name": "R",
      "name": "ir"
    },
    "language_info": {
      "name": "R"
    }
  },
  "nbformat": 4,
  "nbformat_minor": 0
}